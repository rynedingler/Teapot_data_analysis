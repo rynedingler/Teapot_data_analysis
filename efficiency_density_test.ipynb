{
 "cells": [
  {
   "cell_type": "code",
   "execution_count": 7,
   "metadata": {
    "collapsed": true
   },
   "outputs": [],
   "source": [
    "import numpy as np\n",
    "from numpy import empty\n",
    "import math\n",
    "import matplotlib.pyplot as plt\n",
    "\n",
    "import random\n",
    "import array as arr\n",
    "import math\n",
    "from mpl_toolkits.mplot3d import Axes3D\n",
    "import sys\n",
    "import scipy as sci\n",
    "import scipy.integrate as integrate"
   ]
  },
  {
   "cell_type": "code",
   "execution_count": 8,
   "metadata": {
    "collapsed": true
   },
   "outputs": [],
   "source": [
    "r_pmt = 1.5\n",
    "\n",
    "xpmt = 6.5\n",
    "ypmt = 6.5\n",
    "zpmt = 1.75"
   ]
  },
  {
   "cell_type": "code",
   "execution_count": 36,
   "metadata": {},
   "outputs": [],
   "source": [
    "bounds_r = [0,r_pmt]\n",
    "\n",
    "bounds_theta = [0,2*np.pi]\n",
    "\n",
    "posx_temp = 0\n",
    "posy_temp = 0\n",
    "posz_temp = 0\n",
    "\n",
    "def get_d_pmt():\n",
    "    \n",
    "    x = posx_temp\n",
    "    y = posy_temp\n",
    "    z = posz_temp\n",
    "    \n",
    "    R = np.sqrt((x-xpmt)*(x-xpmt)+(y-ypmt)*(y-ypmt)+(zpmt-z)*(zpmt-z))\n",
    "    \n",
    "    return R\n",
    "\n",
    "def f(r,theta):\n",
    "    \n",
    "    R = get_d_pmt()\n",
    "    \n",
    "    x = posx_temp\n",
    "    y = posy_temp\n",
    "    \n",
    "    return (R*r)/((4*np.pi)*((np.sqrt(x**2*y**2)-r*np.cos(theta))**2+(r*np.sin(theta))**2+R**2)**(3/2))\n",
    "\n",
    "def efficiency(x,y,z):\n",
    "    \n",
    "    posx_temp = x\n",
    "    posy_temp = y\n",
    "    posz_temp = z\n",
    "    \n",
    "    eff = integrate.nquad(f,[bounds_r,bounds_theta])\n",
    "    \n",
    "    return eff"
   ]
  },
  {
   "cell_type": "code",
   "execution_count": 38,
   "metadata": {},
   "outputs": [
    {
     "name": "stdout",
     "output_type": "stream",
     "text": [
      "0.006302772963733834\n"
     ]
    }
   ],
   "source": [
    "x= 1\n",
    "y=1\n",
    "z=1.6\n",
    "\n",
    "eff = efficiency(x,y,z)[0]\n",
    "print(eff)"
   ]
  },
  {
   "cell_type": "code",
   "execution_count": null,
   "metadata": {
    "collapsed": true
   },
   "outputs": [],
   "source": []
  }
 ],
 "metadata": {
  "kernelspec": {
   "display_name": "Python 3",
   "language": "python",
   "name": "python3"
  },
  "language_info": {
   "codemirror_mode": {
    "name": "ipython",
    "version": 3
   },
   "file_extension": ".py",
   "mimetype": "text/x-python",
   "name": "python",
   "nbconvert_exporter": "python",
   "pygments_lexer": "ipython3",
   "version": "3.6.9"
  }
 },
 "nbformat": 4,
 "nbformat_minor": 2
}
