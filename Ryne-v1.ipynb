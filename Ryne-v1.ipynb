{
 "cells": [
  {
   "cell_type": "code",
   "execution_count": 1,
   "metadata": {
    "collapsed": true
   },
   "outputs": [],
   "source": [
    "import numpy as np\n",
    "import matplotlib.pyplot as plt\n",
    "import array as arr\n",
    "import os\n",
    "import glob\n",
    "import statistics as st\n",
    "%matplotlib inline\n",
    "\n",
    "from scipy import stats\n",
    "from readTRC import *"
   ]
  },
  {
   "cell_type": "code",
   "execution_count": 458,
   "metadata": {
    "scrolled": true
   },
   "outputs": [
    {
     "name": "stdout",
     "output_type": "stream",
     "text": [
      "/Users/neutrino/Ryne/Analyzed_waveforms/00psig/00psig/NoField\n"
     ]
    }
   ],
   "source": [
    "cd /Users/neutrino/Ryne/Analyzed_waveforms/00psig/00psig/NoField"
   ]
  },
  {
   "cell_type": "code",
   "execution_count": 459,
   "metadata": {},
   "outputs": [
    {
     "data": {
      "text/plain": [
       "['PureAr_0psig_062619_PMT1_wTPB_noEfield',\n",
       " 'PureAr_0psig_062819_PMT1_wTPB_noEfield_01',\n",
       " 'PureAr_0psig_062819_PMT1_wTPB_noEfield_02',\n",
       " 'Time_constant_histo_Ar00_log_noTPB_noEfield_070919_01.pdf',\n",
       " 'TimeConstantvPressure_ReductionComparison.pdf']"
      ]
     },
     "execution_count": 459,
     "metadata": {},
     "output_type": "execute_result"
    }
   ],
   "source": [
    "Folders=os.listdir()\n",
    "if '.DS_Store' in Folders: Folders.remove('.DS_Store')\n",
    "Folders"
   ]
  },
  {
   "cell_type": "code",
   "execution_count": 460,
   "metadata": {},
   "outputs": [
    {
     "data": {
      "text/plain": [
       "'PureAr_0psig_062819_PMT1_wTPB_noEfield_02/C1waveform-062819-00206.trc'"
      ]
     },
     "execution_count": 460,
     "metadata": {},
     "output_type": "execute_result"
    }
   ],
   "source": [
    "files = glob.glob(Folders[2]+'/*.trc')\n",
    "files.sort()\n",
    "files[0]"
   ]
  },
  {
   "cell_type": "code",
   "execution_count": 376,
   "metadata": {},
   "outputs": [
    {
     "data": {
      "text/plain": [
       "'PureAr_00psig_071519_PMT1_noTPB_Efield@1000V/C1waveform-071519-00000.trc'"
      ]
     },
     "execution_count": 376,
     "metadata": {},
     "output_type": "execute_result"
    }
   ],
   "source": [
    "files1 = glob.glob(Folders[10]+'/*.trc')\n",
    "files1.sort()\n",
    "files1[0]"
   ]
  },
  {
   "cell_type": "code",
   "execution_count": 377,
   "metadata": {},
   "outputs": [
    {
     "data": {
      "text/plain": [
       "'PureAr_00psig_071519_PMT1_noTPB_Efield@2000V/C1waveform-071519-00000.trc'"
      ]
     },
     "execution_count": 377,
     "metadata": {},
     "output_type": "execute_result"
    }
   ],
   "source": [
    "files2 = glob.glob(Folders[11]+'/*.trc')\n",
    "files2.sort()\n",
    "files2[0]"
   ]
  },
  {
   "cell_type": "code",
   "execution_count": 378,
   "metadata": {},
   "outputs": [
    {
     "data": {
      "text/plain": [
       "'PureAr_00psig_071519_PMT1_noTPB_Efield@3000V/C1waveform-071519-00021.trc'"
      ]
     },
     "execution_count": 378,
     "metadata": {},
     "output_type": "execute_result"
    }
   ],
   "source": [
    "files3 = glob.glob(Folders[12]+'/*.trc')\n",
    "files3.sort()\n",
    "files3[0]"
   ]
  },
  {
   "cell_type": "code",
   "execution_count": 381,
   "metadata": {},
   "outputs": [
    {
     "data": {
      "text/plain": [
       "'PureAr_Vacuum_071119_PMT1_noTPB_noEfield_lightson_01/C1waveform-071119-00005.trc'"
      ]
     },
     "execution_count": 381,
     "metadata": {},
     "output_type": "execute_result"
    }
   ],
   "source": [
    "files4 = glob.glob(Folders[13]+'/*.trc')\n",
    "files4.sort()\n",
    "files4[0]"
   ]
  },
  {
   "cell_type": "code",
   "execution_count": 384,
   "metadata": {},
   "outputs": [
    {
     "data": {
      "text/plain": [
       "'Vacuum_071519_noTPB_Efield@1000V/C1waveform-071519-00000.trc'"
      ]
     },
     "execution_count": 384,
     "metadata": {},
     "output_type": "execute_result"
    }
   ],
   "source": [
    "files5 = glob.glob(Folders[29]+'/*.trc')\n",
    "files5.sort()\n",
    "files5[0]"
   ]
  },
  {
   "cell_type": "code",
   "execution_count": 385,
   "metadata": {},
   "outputs": [
    {
     "data": {
      "text/plain": [
       "'Vacuum_071619_noTPB_Efield@2000V/C1waveform-071619-00000.trc'"
      ]
     },
     "execution_count": 385,
     "metadata": {},
     "output_type": "execute_result"
    }
   ],
   "source": [
    "files6 = glob.glob(Folders[30]+'/*.trc')\n",
    "files6.sort()\n",
    "files6[0]"
   ]
  },
  {
   "cell_type": "code",
   "execution_count": 386,
   "metadata": {},
   "outputs": [
    {
     "data": {
      "text/plain": [
       "'Vacuum_071719_noTPB_Efield@3000V/C1waveform-071719-00000.trc'"
      ]
     },
     "execution_count": 386,
     "metadata": {},
     "output_type": "execute_result"
    }
   ],
   "source": [
    "files7 = glob.glob(Folders[31]+'/*.trc')\n",
    "files7.sort()\n",
    "files7[0]"
   ]
  },
  {
   "cell_type": "code",
   "execution_count": null,
   "metadata": {
    "collapsed": true
   },
   "outputs": [],
   "source": [
    "len(datX)"
   ]
  },
  {
   "cell_type": "code",
   "execution_count": null,
   "metadata": {
    "collapsed": true
   },
   "outputs": [],
   "source": [
    "datX, datY, info = readTrc(files[0])"
   ]
  },
  {
   "cell_type": "code",
   "execution_count": null,
   "metadata": {
    "collapsed": true
   },
   "outputs": [],
   "source": [
    "datX1, datY1, info1 = readTrc(files1[0])"
   ]
  },
  {
   "cell_type": "code",
   "execution_count": null,
   "metadata": {
    "collapsed": true
   },
   "outputs": [],
   "source": [
    "datX2, datY2, info2 = readTrc(files2[0])"
   ]
  },
  {
   "cell_type": "code",
   "execution_count": null,
   "metadata": {
    "collapsed": true
   },
   "outputs": [],
   "source": [
    "datX3, datY3, info3 = readTrc(files3[0])"
   ]
  },
  {
   "cell_type": "code",
   "execution_count": null,
   "metadata": {
    "collapsed": true
   },
   "outputs": [],
   "source": [
    "datX4, datY4, info4 = readTrc(files4[0])"
   ]
  },
  {
   "cell_type": "code",
   "execution_count": null,
   "metadata": {
    "collapsed": true
   },
   "outputs": [],
   "source": [
    "plt.plot(datX,datY)"
   ]
  },
  {
   "cell_type": "code",
   "execution_count": null,
   "metadata": {
    "collapsed": true
   },
   "outputs": [],
   "source": [
    "plt.plot(datX1,datY1)"
   ]
  },
  {
   "cell_type": "code",
   "execution_count": null,
   "metadata": {
    "collapsed": true
   },
   "outputs": [],
   "source": [
    "plt.plot(datX2,datY2)"
   ]
  },
  {
   "cell_type": "code",
   "execution_count": null,
   "metadata": {
    "collapsed": true
   },
   "outputs": [],
   "source": [
    "plt.plot(datX3,datY3)"
   ]
  },
  {
   "cell_type": "code",
   "execution_count": null,
   "metadata": {
    "collapsed": true,
    "scrolled": true
   },
   "outputs": [],
   "source": [
    "plt.plot(datX0,datY0)"
   ]
  },
  {
   "cell_type": "code",
   "execution_count": null,
   "metadata": {
    "collapsed": true
   },
   "outputs": [],
   "source": [
    "datX0 = []\n",
    "datY0 = []\n",
    "\n",
    "datX, datY, info = readTrc(files[0])\n",
    "datX1, datY1, info1 = readTrc(files[1])\n",
    "\n",
    "datX0 = datX + datX1\n",
    "datY0 = datY + datY1\n",
    "\n",
    "# for Q in range(0,len(datX)-2):\n",
    "#     datX[]"
   ]
  },
  {
   "cell_type": "code",
   "execution_count": null,
   "metadata": {
    "collapsed": true
   },
   "outputs": [],
   "source": [
    "Length = len(files)\n",
    "Xavg = np.zeros(len(datX))\n",
    "Yavg = np.zeros(len(datX))\n",
    "for Q in range(0,Length):\n",
    "    datX, datY, info = readTrc(files[Q])\n",
    "    Xavg += datX\n",
    "    Yavg += datY\n",
    "Xavg = Xavg/Length\n",
    "Yavg = Yavg/Length"
   ]
  },
  {
   "cell_type": "code",
   "execution_count": null,
   "metadata": {
    "collapsed": true
   },
   "outputs": [],
   "source": [
    "len(datX)"
   ]
  },
  {
   "cell_type": "code",
   "execution_count": null,
   "metadata": {
    "collapsed": true,
    "scrolled": true
   },
   "outputs": [],
   "source": [
    "time_mark = arr.array('d')\n",
    "Yval = arr.array('d')\n",
    "\n",
    "for Q in range(1,2501):\n",
    "    if Yavg[Q] < -0.00175 and Yavg[Q] < Yavg[Q-1] and Yavg[Q] < Yavg[Q+1]:\n",
    "        time_mark.append(Xavg[Q])\n",
    "        Yval.append(Yavg[Q])"
   ]
  },
  {
   "cell_type": "code",
   "execution_count": null,
   "metadata": {
    "collapsed": true
   },
   "outputs": [],
   "source": [
    "# from scipy import stats\n",
    "\n",
    "# ab,bb,cb,db = stats.beta.fit(pulse_count_Ar10)  \n",
    "# pdf_beta = stats.beta.pdf(lnspc, ab, bb,cb, db)  \n",
    "# plt.plot(lnspc, pdf_beta, label=\"Beta\")\n",
    "\n",
    "# plt.show()"
   ]
  },
  {
   "cell_type": "code",
   "execution_count": 461,
   "metadata": {},
   "outputs": [
    {
     "name": "stdout",
     "output_type": "stream",
     "text": [
      "Checking file #  0\n",
      "Checking file #  1000\n",
      "Checking file #  2000\n",
      "Checking file #  3000\n",
      "Checking file #  4000\n",
      "Checking file #  5000\n",
      "Checking file #  6000\n",
      "Checking file #  7000\n",
      "Checking file #  8000\n",
      "Checking file #  9000\n"
     ]
    },
    {
     "data": {
      "image/png": "[encoded data removed]",
      "text/plain": [
       "<matplotlib.figure.Figure at 0x1a15ae5080>"
      ]
     },
     "metadata": {},
     "output_type": "display_data"
    }
   ],
   "source": [
    "# ### With TPB and Electric field\n",
    "\n",
    "Length = len(files)\n",
    "pulse_count0_Ar20_TPB1 = arr.array('d')\n",
    "pulse_count1_Ar20_TPB1 = arr.array('d')\n",
    "pulse_count2_Ar20_TPB1 = arr.array('d')\n",
    "pulse_count3_Ar20_TPB1 = arr.array('d')\n",
    "# pulse_count4_Ar20_TPB1 = arr.array('d')\n",
    "# pulse_count5_Ar20_TPB1 = arr.array('d')\n",
    "\n",
    "for Q in range(0,Length):\n",
    "    datX, datY, info = readTrc(files[Q])\n",
    "    if Q%1000 == 0:\n",
    "        print(\"Checking file # \", Q)\n",
    "    for R in range(1,len(datX)-2):\n",
    "        if datY[R] < -0.00175: # and datY[R] < datY[R-1] and datY[R] < datY[R+1]:\n",
    "            pulse_count0_Ar20_TPB1.append(datX[R])\n",
    "        if datY[R] < -0.0020: # and datY[R] < datY[R-1] and datY[R] < datY[R+1]:\n",
    "            pulse_count1_Ar20_TPB1.append(datX[R])\n",
    "        if datY[R] < -0.0025: # and datY[R] < datY[R-1] and datY[R] < datY[R+1]:\n",
    "            pulse_count2_Ar20_TPB1.append(datX[R])\n",
    "        if datY[R] < -0.0050: # and datY[R] < datY[R-1] and datY[R] < datY[R+1]:\n",
    "            pulse_count3_Ar20_TPB1.append(datX[R])\n",
    "#         if datY[R] < -0.0050 and datY[R] > -0.010 : # and datY[R] < datY[R-1] and datY[R] < datY[R+1]:\n",
    "#             pulse_count4_Ar20_TPB1.append(datX[R])\n",
    "#         if datY[R] < -0.0050 and datY[R] > -0.007 : # and datY[R] < datY[R-1] and datY[R] < datY[R+1]:\n",
    "#             pulse_count5_Ar20_TPB1.append(datX[R])\n",
    "            \n",
    "    \n",
    "# Length = len(files1)\n",
    "# pulse_count0_Ar20_TPB2 = arr.array('d')\n",
    "# pulse_count1_Ar20_TPB2 = arr.array('d')\n",
    "# pulse_count2_Ar20_TPB2 = arr.array('d')\n",
    "# pulse_count3_Ar20_TPB2 = arr.array('d')\n",
    "\n",
    "# for Q in range(0,Length):\n",
    "#     datX1, datY1, info1 = readTrc(files1[Q])\n",
    "#     if Q%1000 == 0:\n",
    "#         print(\"Checking file # \", Q)\n",
    "#     for R in range(1,len(datX1)-2):\n",
    "#         if datY1[R] < -0.00175: # and datY[R] < datY[R-1] and datY[R] < datY[R+1]:\n",
    "#             pulse_count0_Ar20_TPB2.append(datX1[R])\n",
    "#         if datY1[R] < -0.0020: # and datY[R] < datY[R-1] and datY[R] < datY[R+1]:\n",
    "#             pulse_count1_Ar20_TPB2.append(datX1[R])\n",
    "#         if datY1[R] < -0.0025: # and datY[R] < datY[R-1] and datY[R] < datY[R+1]:\n",
    "#             pulse_count2_Ar20_TPB2.append(datX1[R])\n",
    "#         if datY1[R] < -0.0050: # and datY[R] < datY[R-1] and datY[R] < datY[R+1]:\n",
    "#             pulse_count3_Ar20_TPB2.append(datX1[R])   \n",
    "            \n",
    "\n",
    "# Length = len(files2)\n",
    "# pulse_count0_Ar20_TPB3 = arr.array('d')\n",
    "# pulse_count1_Ar20_TPB3 = arr.array('d')\n",
    "# pulse_count2_Ar20_TPB3 = arr.array('d')\n",
    "# pulse_count3_Ar20_TPB3 = arr.array('d')\n",
    "\n",
    "\n",
    "# for Q in range(0,Length):\n",
    "#     datX2, datY2, info2 = readTrc(files2[Q])\n",
    "#     if Q%1000 == 0:\n",
    "#         print(\"Checking file # \", Q)\n",
    "#     for R in range(1,len(datX2)-2):\n",
    "#         if datY2[R] < -0.00175: # and datY[R] < datY[R-1] and datY[R] < datY[R+1]:\n",
    "#             pulse_count0_Ar20_TPB3.append(datX2[R])\n",
    "#         if datY2[R] < -0.0020: # and datY[R] < datY[R-1] and datY[R] < datY[R+1]:\n",
    "#             pulse_count1_Ar20_TPB3.append(datX2[R])\n",
    "#         if datY2[R] < -0.0025: # and datY[R] < datY[R-1] and datY[R] < datY[R+1]:\n",
    "#             pulse_count2_Ar20_TPB3.append(datX2[R])\n",
    "#         if datY2[R] < -0.0050: # and datY[R] < datY[R-1] and datY[R] < datY[R+1]:\n",
    "#             pulse_count3_Ar20_TPB3.append(datX2[R])\n",
    "\n",
    "# Length = len(files3)            \n",
    "# pulse_count0_Ar20_TPB4 = arr.array('d')\n",
    "# pulse_count1_Ar20_TPB4 = arr.array('d')\n",
    "# pulse_count2_Ar20_TPB4 = arr.array('d')\n",
    "# pulse_count3_Ar20_TPB4 = arr.array('d')    \n",
    "    \n",
    "# for Q in range(0,Length):\n",
    "#     datX3, datY3, info3 = readTrc(files3[Q])\n",
    "#     if Q%1000 == 0:\n",
    "#         print(\"Checking file # \", Q)\n",
    "#     for R in range(1,len(datX3)-2):\n",
    "#         if datY3[R] < -0.00175: # and datY[R] < datY[R-1] and datY[R] < datY[R+1]:\n",
    "#             pulse_count0_Ar20_TPB4.append(datX3[R])\n",
    "#         if datY3[R] < -0.0020: # and datY[R] < datY[R-1] and datY[R] < datY[R+1]:\n",
    "#             pulse_count1_Ar20_TPB4.append(datX3[R])\n",
    "#         if datY3[R] < -0.0025: # and datY[R] < datY[R-1] and datY[R] < datY[R+1]:\n",
    "#             pulse_count2_Ar20_TPB4.append(datX3[R])\n",
    "#         if datY3[R] < -0.0050: # and datY[R] < datY[R-1] and datY[R] < datY[R+1]:\n",
    "#             pulse_count3_Ar20_TPB4.append(datX3[R])            \n",
    "    \n",
    "f, ax = plt.subplots(1)\n",
    "\n",
    "# counts0_Ar20_TPB1, bins0_Ar20_TPB1, bars0_Ar20_TPB1 = ax.hist(pulse_count0_Ar20_TPB1, bins = len(datX), histtype='step')\n",
    "# counts1_Ar20_TPB1, bins1_Ar20_TPB1, bars1_Ar20_TPB1 = ax.hist(pulse_count1_Ar20_TPB1, bins = len(datX), histtype='step',color ='r', alpha = 0.7) \n",
    "# counts2_Ar20_TPB1, bins2_Ar20_TPB1, bars2_Ar20_TPB1 = ax.hist(pulse_count2_Ar20_TPB1, bins = 20000, histtype='step',color ='g', alpha = 0.7) \n",
    "counts3_Ar20_TPB1, bins3_Ar20_TPB1, bars3_Ar20_TPB1 = ax.hist(pulse_count3_Ar20_TPB1, bins = 15000, histtype='step',color ='k', alpha = 0.7) \n",
    "\n",
    "# # counts0_Ar20_TPB2, bins0_Ar20_TPB2, bars0_Ar20_TPB2 = ax.hist(pulse_count0_Ar20_TPB2, bins = len(datX1), histtype='step')\n",
    "# # counts1_Ar20_TPB2, bins1_Ar20_TPB2, bars1_Ar20_TPB2 = ax.hist(pulse_count1_Ar20_TPB2, bins = len(datX1), histtype='step',color ='r', alpha = 0.7) \n",
    "# # counts2_Ar20_TPB2, bins2_Ar20_TPB2, bars2_Ar20_TPB2 = ax.hist(pulse_count2_Ar20_TPB2, bins = 20000, histtype='step',color ='g', alpha = 0.7) \n",
    "# counts3_Ar20_TPB2, bins3_Ar20_TPB2, bars3_Ar20_TPB2 = ax.hist(pulse_count3_Ar20_TPB2, bins = 15000, histtype='step',color ='r', alpha = 0.7) \n",
    "\n",
    "# # counts0_Ar20_TPB3, bins0_Ar20_TPB3, bars0_Ar20_TPB3 = ax.hist(pulse_count0_Ar20_TPB3, bins = len(datX2), histtype='step')\n",
    "# # counts1_Ar20_TPB3, bins1_Ar20_TPB3, bars1_Ar20_TPB3 = ax.hist(pulse_count1_Ar20_TPB3, bins = len(datX2), histtype='step',color ='r', alpha = 0.7) \n",
    "# # counts2_Ar20_TPB3, bins2_Ar20_TPB3, bars2_Ar20_TPB3 = ax.hist(pulse_count2_Ar20_TPB3, bins = len(datX2), histtype='step',color ='g', alpha = 0.7) \n",
    "# counts3_Ar20_TPB3, bins3_Ar20_TPB3, bars3_Ar20_TPB3 = ax.hist(pulse_count3_Ar20_TPB3, bins = 15000, histtype='step',color ='g', alpha = 0.7) \n",
    "\n",
    "\n",
    "# # counts0_Ar20_TPB4, bins0_Ar20_TPB4, bars0_Ar20_TPB4 = ax.hist(pulse_count0_Ar20_TPB4, bins = len(datX3), histtype='step')\n",
    "# # counts1_Ar20_TPB4, bins1_Ar20_TPB4, bars1_Ar20_TPB4 = ax.hist(pulse_count1_Ar20_TPB4, bins = len(datX3), histtype='step',color ='r', alpha = 0.7) \n",
    "# # counts2_Ar20_TPB4, bins2_Ar20_TPB4, bars2_Ar20_TPB4 = ax.hist(pulse_count2_Ar20_TPB4, bins = len(datX3), histtype='step',color ='g', alpha = 0.7) \n",
    "# counts3_Ar20_TPB4, bins3_Ar20_TPB4, bars3_Ar20_TPB4 = ax.hist(pulse_count3_Ar20_TPB4, bins = 15000, histtype='step',color ='b', alpha = 0.7) \n",
    "\n",
    "\n",
    "\n",
    "# for S in range(0,len(time_mark)):\n",
    "# plt.axvline(time_mark[24], linestyle='--', color='c')\n",
    "\n",
    "# plt.title('100% Ar - 20psi; lights off')\n",
    "plt.title(r'100% Ar - 00 psig logscale; no TPB, no E field, w/ $\\alpha$ src, lights on')\n",
    "\n",
    "plt.xlabel('Time (s)',fontsize=10)\n",
    "plt.ylabel('Pulse count',fontsize=10)\n",
    "plt.xticks(fontsize=10)\n",
    "plt.ticklabel_format(axis='x', style='sci', scilimits=(-3,3))\n",
    "plt.yticks(fontsize=10)\n",
    "# plt.ylim(-2,20)\n",
    "# plt.xlim(-0.5e-5,1.5e-5) \n",
    "plt.yscale('log')\n",
    "\n",
    "# ax.legend(('< -1.75 mV','< -2.0 mV','< -2.5 mV', '< -5 mV'), loc = 'upper right')\n",
    "\n",
    "# '$t_{initial}$',\n",
    "#plt.savefig('Time_constant_histo_Ar10.pdf')\n",
    "# plt.savefig('Time_constant_histo_Ar00_log_noTPB_noEfield_070919_01.pdf')\n",
    "# plt.savefig('Time_constant_histo_Ar10_fullrange.pdf')\n",
    "# plt.savefig('Time_constant_histo_Ar10_log_fullrange.pdf')\n",
    "# plt.savefig('Time_constant_histo_Ar10_log_fullrange_t0.pdf')\n",
    "\n",
    "\n",
    "plt.show()"
   ]
  },
  {
   "cell_type": "code",
   "execution_count": null,
   "metadata": {
    "collapsed": true
   },
   "outputs": [],
   "source": [
    "plt.plot(bins3_Ar20_TPB1[1:],counts3_Ar20_TPB1*1023)\n",
    "\n",
    "\n",
    "plt.title('100% Ar - 25psi logscale; TPB in chamber')\n",
    "\n",
    "plt.xlabel('Time (s)',fontsize=10)\n",
    "plt.ylabel('Pulse count',fontsize=10)\n",
    "plt.xticks(fontsize=10)\n",
    "plt.ticklabel_format(axis='x', style='sci', scilimits=(-3,3))\n",
    "plt.yticks(fontsize=10)\n",
    "# plt.ylim(-2,20)\n",
    "# plt.xlim(-0.5e-5,1e-5) \n",
    "plt.yscale('log')\n",
    "plt.show()"
   ]
  },
  {
   "cell_type": "code",
   "execution_count": null,
   "metadata": {
    "collapsed": true
   },
   "outputs": [],
   "source": [
    "i, = np.where(bins1_Ar20 <= time_mark[21])\n",
    "i\n",
    "\n",
    "print(bins2_Ar10)\n",
    "print(time_mark[21])\n",
    "print(bins1_Ar10[1127])\n",
    "\n",
    "# del_t = bins2_Ar10[len(counts2_Ar10)-1] - bins2_Ar10[1127]\n",
    "\n",
    "# print(counts2_Ar10[1127])\n",
    "\n",
    "\n",
    "# print(counts2_Ar10[len(counts_Ar10)-1])\n",
    "# # print(bins1_Ar10[len(counts_Ar10)-1])\n",
    "\n",
    "# print(del_t)"
   ]
  },
  {
   "cell_type": "code",
   "execution_count": null,
   "metadata": {
    "collapsed": true
   },
   "outputs": [],
   "source": [
    "Length1 = len(files1)\n",
    "Xavg1 = np.zeros(len(datX1))\n",
    "Yavg1 = np.zeros(len(datX1))\n",
    "# count = 0 \n",
    "for Q in range(0,Length1):\n",
    "    datX1, datY1, info1 = readTrc(files1[Q])\n",
    "#     if len(datX1) == 10002:\n",
    "#         count += 1\n",
    "    Xavg1 += datX1\n",
    "    Yavg1 += datY1\n",
    "Xavg1 = Xavg1/Length1\n",
    "Yavg1 = Yavg1/Length1\n",
    "# print(count)"
   ]
  },
  {
   "cell_type": "code",
   "execution_count": null,
   "metadata": {
    "collapsed": true
   },
   "outputs": [],
   "source": [
    "time_mark1 = arr.array('d')\n",
    "Yval1 = arr.array('d')\n",
    "\n",
    "for Q in range(1,2501):\n",
    "    if Yavg1[Q] < -0.00175 and Yavg1[Q] < Yavg1[Q-1] and Yavg1[Q] < Yavg1[Q+1]:\n",
    "        time_mark1.append(Xavg1[Q])\n",
    "        Yval1.append(Yavg1[Q])"
   ]
  },
  {
   "cell_type": "code",
   "execution_count": 388,
   "metadata": {},
   "outputs": [
    {
     "name": "stdout",
     "output_type": "stream",
     "text": [
      "Checking file #  0\n",
      "Checking file #  1000\n",
      "Checking file #  2000\n",
      "Checking file #  3000\n",
      "Checking file #  4000\n",
      "Checking file #  5000\n",
      "Checking file #  6000\n",
      "Checking file #  7000\n",
      "Checking file #  8000\n",
      "Checking file #  9000\n",
      "Checking file #  0\n",
      "Checking file #  1000\n",
      "Checking file #  2000\n",
      "Checking file #  3000\n",
      "Checking file #  4000\n",
      "Checking file #  5000\n",
      "Checking file #  6000\n",
      "Checking file #  7000\n",
      "Checking file #  8000\n",
      "Checking file #  9000\n",
      "Checking file #  0\n",
      "Checking file #  1000\n",
      "Checking file #  2000\n",
      "Checking file #  3000\n",
      "Checking file #  4000\n",
      "Checking file #  5000\n",
      "Checking file #  6000\n",
      "Checking file #  7000\n",
      "Checking file #  8000\n",
      "Checking file #  9000\n",
      "Checking file #  0\n",
      "Checking file #  1000\n",
      "Checking file #  2000\n",
      "Checking file #  3000\n",
      "Checking file #  4000\n",
      "Checking file #  5000\n",
      "Checking file #  6000\n",
      "Checking file #  7000\n",
      "Checking file #  8000\n",
      "Checking file #  9000\n"
     ]
    },
    {
     "data": {
      "image/png": "[encoded data removed]",
      "text/plain": [
       "<matplotlib.figure.Figure at 0x1a27c69668>"
      ]
     },
     "metadata": {},
     "output_type": "display_data"
    }
   ],
   "source": [
    "## With TPB and Electric field\n",
    "\n",
    "Length = len(files4)\n",
    "pulse_count0_Vac_TPB1 = arr.array('d')\n",
    "pulse_count1_Vac_TPB1 = arr.array('d')\n",
    "pulse_count2_Vac_TPB1 = arr.array('d')\n",
    "pulse_count3_Vac_TPB1 = arr.array('d')\n",
    "\n",
    "for Q in range(0,Length):\n",
    "    datX4, datY4, info4 = readTrc(files4[Q])\n",
    "    if Q%1000 == 0:\n",
    "        print(\"Checking file # \", Q)\n",
    "    for R in range(1,len(datX4)-2):\n",
    "        if datY4[R] < -0.00175: # and datY[R] < datY[R-1] and datY[R] < datY[R+1]:\n",
    "            pulse_count0_Vac_TPB1.append(datX4[R])\n",
    "        if datY4[R] < -0.0020: # and datY[R] < datY[R-1] and datY[R] < datY[R+1]:\n",
    "            pulse_count1_Vac_TPB1.append(datX4[R])\n",
    "        if datY4[R] < -0.0025: # and datY[R] < datY[R-1] and datY[R] < datY[R+1]:\n",
    "            pulse_count2_Vac_TPB1.append(datX4[R])\n",
    "        if datY4[R] < -0.0050: # and datY[R] < datY[R-1] and datY[R] < datY[R+1]:\n",
    "            pulse_count3_Vac_TPB1.append(datX4[R])\n",
    "            \n",
    "\n",
    "\n",
    "Length = len(files5)\n",
    "pulse_count0_Vac_TPB2 = arr.array('d')\n",
    "pulse_count1_Vac_TPB2 = arr.array('d')\n",
    "pulse_count2_Vac_TPB2 = arr.array('d')\n",
    "pulse_count3_Vac_TPB2 = arr.array('d')\n",
    "\n",
    "for Q in range(0,Length):\n",
    "    datX5, datY5, info5 = readTrc(files5[Q])\n",
    "    if Q%1000 == 0:\n",
    "        print(\"Checking file # \", Q)\n",
    "    for R in range(1,len(datX5)-2):\n",
    "        if datY5[R] < -0.00175: # and datY[R] < datY[R-1] and datY[R] < datY[R+1]:\n",
    "            pulse_count0_Vac_TPB2.append(datX5[R])\n",
    "        if datY5[R] < -0.0020: # and datY[R] < datY[R-1] and datY[R] < datY[R+1]:\n",
    "            pulse_count1_Vac_TPB2.append(datX5[R])\n",
    "        if datY5[R] < -0.0025: # and datY[R] < datY[R-1] and datY[R] < datY[R+1]:\n",
    "            pulse_count2_Vac_TPB2.append(datX5[R])\n",
    "        if datY5[R] < -0.0050: # and datY[R] < datY[R-1] and datY[R] < datY[R+1]:\n",
    "            pulse_count3_Vac_TPB2.append(datX5[R])\n",
    "\n",
    "            \n",
    "Length = len(files6)\n",
    "pulse_count0_Vac_TPB3 = arr.array('d')\n",
    "pulse_count1_Vac_TPB3 = arr.array('d')\n",
    "pulse_count2_Vac_TPB3 = arr.array('d')\n",
    "pulse_count3_Vac_TPB3 = arr.array('d')\n",
    "\n",
    "for Q in range(0,Length):\n",
    "    datX6, datY6, info6 = readTrc(files6[Q])\n",
    "    if Q%1000 == 0:\n",
    "        print(\"Checking file # \", Q)\n",
    "    for R in range(1,len(datX6)-2):\n",
    "        if datY6[R] < -0.00175: # and datY[R] < datY[R-1] and datY[R] < datY[R+1]:\n",
    "            pulse_count0_Vac_TPB3.append(datX6[R])\n",
    "        if datY6[R] < -0.0020: # and datY[R] < datY[R-1] and datY[R] < datY[R+1]:\n",
    "            pulse_count1_Vac_TPB3.append(datX6[R])\n",
    "        if datY6[R] < -0.0025: # and datY[R] < datY[R-1] and datY[R] < datY[R+1]:\n",
    "            pulse_count2_Vac_TPB3.append(datX6[R])\n",
    "        if datY6[R] < -0.0050: # and datY[R] < datY[R-1] and datY[R] < datY[R+1]:\n",
    "            pulse_count3_Vac_TPB3.append(datX6[R])\n",
    "            \n",
    "            \n",
    "Length = len(files7)\n",
    "pulse_count0_Vac_TPB4 = arr.array('d')\n",
    "pulse_count1_Vac_TPB4 = arr.array('d')\n",
    "pulse_count2_Vac_TPB4 = arr.array('d')\n",
    "pulse_count3_Vac_TPB4 = arr.array('d')\n",
    "\n",
    "for Q in range(0,Length):\n",
    "    datX7, datY7, info7 = readTrc(files7[Q])\n",
    "    if Q%1000 == 0:\n",
    "        print(\"Checking file # \", Q)\n",
    "    for R in range(1,len(datX7)-2):\n",
    "        if datY7[R] < -0.00175: # and datY[R] < datY[R-1] and datY[R] < datY[R+1]:\n",
    "            pulse_count0_Vac_TPB4.append(datX7[R])\n",
    "        if datY7[R] < -0.0020: # and datY[R] < datY[R-1] and datY[R] < datY[R+1]:\n",
    "            pulse_count1_Vac_TPB4.append(datX7[R])\n",
    "        if datY7[R] < -0.0025: # and datY[R] < datY[R-1] and datY[R] < datY[R+1]:\n",
    "            pulse_count2_Vac_TPB4.append(datX7[R])\n",
    "        if datY7[R] < -0.0050: # and datY[R] < datY[R-1] and datY[R] < datY[R+1]:\n",
    "            pulse_count3_Vac_TPB4.append(datX7[R])\n",
    "            \n",
    "            \n",
    "f, ax = plt.subplots(1)\n",
    "\n",
    "# counts0_Vac_TPB1, bins0_Vac_TPB1, bars0_Vac_TPB1 = ax.hist(pulse_count0_Vac_TPB1, bins = len(datX1), histtype='step')\n",
    "# counts1_Vac_TPB1, bins1_Vac_TPB1, bars1_Vac_TPB1 = ax.hist(pulse_count1_Vac_TPB1, bins = len(datX1), histtype='step',color ='r', alpha = 0.7) \n",
    "# counts2_Vac_TPB1, bins2_Vac_TPB1, bars2_Vac_TPB1 = ax.hist(pulse_count2_Vac_TPB1, bins = 20000, histtype='step',color ='g', alpha = 0.7) \n",
    "counts3_Vac_TPB1, bins3_Vac_TPB1, bars3_Vac_TPB1 = ax.hist(pulse_count3_Vac_TPB1, bins = 15000, histtype='step',color ='k', alpha = 0.7) \n",
    "\n",
    "# counts0_Vac_TPB2, bins0_Vac_TPB2, bars0_Vac_TPB2 = ax.hist(pulse_count0_Vac_TPB2, bins = len(datX1), histtype='step')\n",
    "# counts1_Vac_TPB2, bins1_Vac_TPB2, bars1_Vac_TPB2 = ax.hist(pulse_count1_Vac_TPB2, bins = len(datX1), histtype='step',color ='r', alpha = 0.7) \n",
    "# counts2_Vac_TPB2, bins2_Vac_TPB2, bars2_Vac_TPB2 = ax.hist(pulse_count2_Vac_TPB2, bins = 20000, histtype='step',color ='g', alpha = 0.7) \n",
    "counts3_Vac_TPB2, bins3_Vac_TPB2, bars3_Vac_TPB2 = ax.hist(pulse_count3_Vac_TPB2, bins = 15000, histtype='step',color ='k', alpha = 0.7) \n",
    "\n",
    "# counts0_Vac_TPB3, bins0_Vac_TPB3, bars0_Vac_TPB3 = ax.hist(pulse_count0_Vac_TPB3, bins = len(datX1), histtype='step')\n",
    "# counts1_Vac_TPB3, bins1_Vac_TPB3, bars1_Vac_TPB3 = ax.hist(pulse_count1_Vac_TPB3, bins = len(datX1), histtype='step',color ='r', alpha = 0.7) \n",
    "# counts2_Vac_TPB3, bins2_Vac_TPB3, bars2_Vac_TPB3 = ax.hist(pulse_count2_Vac_TPB3, bins = 20000, histtype='step',color ='g', alpha = 0.7) \n",
    "counts3_Vac_TPB3, bins3_Vac_TPB3, bars3_Vac_TPB3 = ax.hist(pulse_count3_Vac_TPB3, bins = 15000, histtype='step',color ='k', alpha = 0.7) \n",
    "\n",
    "# counts0_Vac_TPB4, bins0_Vac_TPB4, bars0_Vac_TPB4 = ax.hist(pulse_count0_Vac_TPB4, bins = len(datX1), histtype='step')\n",
    "# counts1_Vac_TPB4, bins1_Vac_TPB4, bars1_Vac_TPB4 = ax.hist(pulse_count1_Vac_TPB4, bins = len(datX1), histtype='step',color ='r', alpha = 0.7) \n",
    "# counts2_Vac_TPB4, bins2_Vac_TPB4, bars2_Vac_TPB4 = ax.hist(pulse_count2_Vac_TPB4, bins = 20000, histtype='step',color ='g', alpha = 0.7) \n",
    "counts3_Vac_TPB4, bins3_Vac_TPB4, bars3_Vac_TPB2 = ax.hist(pulse_count3_Vac_TPB4, bins = 15000, histtype='step',color ='k', alpha = 0.7) \n",
    "\n",
    "# for S in range(0,len(time_mark)):\n",
    "# plt.axvline(time_mark[24], linestyle='--', color='c')\n",
    "\n",
    "# plt.title('100% Ar - 20psi; lights off')\n",
    "plt.title(r'100% Ar - 00 psig logscale; no TPB, E field, w/ $\\alpha$ src, lights off')\n",
    "\n",
    "# plt.title('100% Ar - 25psi logscale; TPB in chamber, -9 mV threshold')\n",
    "\n",
    "plt.xlabel('Time (s)',fontsize=10)\n",
    "plt.ylabel('Pulse count',fontsize=10)\n",
    "plt.xticks(fontsize=10)\n",
    "plt.ticklabel_format(axis='x', style='sci', scilimits=(-3,3))\n",
    "plt.yticks(fontsize=10)\n",
    "#plt.ylim(-22,2)\n",
    "# plt.xlim(-0.5e-5,3e-5) \n",
    "plt.yscale('log')\n",
    "\n",
    "# ax.legend(('< -1.75 mV','< -2.0 mV','< -2.5 mV', '< -5 mV'), loc = 'upper right')\n",
    "\n",
    "# '$t_{initial}$',\n",
    "#plt.savefig('Time_constant_histo_Ar10.pdf')\n",
    "# plt.savefig('Time_constant_histo_Ar25_log_TPB_-9mVthreshold_01.pdf')\n",
    "# plt.savefig('Time_constant_histo_Ar10_fullrange.pdf')\n",
    "# plt.savefig('Time_constant_histo_Ar10_log_fullrange.pdf')\n",
    "# plt.savefig('Time_constant_histo_Ar10_log_fullrange_t0.pdf')\n",
    "# plt.savefig('Time_constant_histo_Ar0_log_TPB_Efield_062719_04.pdf')\n",
    "\n",
    "plt.show()"
   ]
  },
  {
   "cell_type": "code",
   "execution_count": 434,
   "metadata": {},
   "outputs": [
    {
     "data": {
      "image/png": "[encoded data removed]",
      "text/plain": [
       "<matplotlib.figure.Figure at 0x1a21450cc0>"
      ]
     },
     "metadata": {},
     "output_type": "display_data"
    }
   ],
   "source": [
    "sum_Ar_0000V = np.sum(counts3_Ar20_TPB1)\n",
    "sum_Ar_1000V = np.sum(counts3_Ar20_TPB2)\n",
    "sum_Ar_2000V = np.sum(counts3_Ar20_TPB3)\n",
    "sum_Ar_3000V = np.sum(counts3_Ar20_TPB4)\n",
    "rate_Ar_0000V = 51231/120 #18046/120  49392/120 \n",
    "rate_Ar_1000V = 130680/120 #49585/120 18046/120\n",
    "rate_Ar_2000V = 270241/120 #18046/120  49392/120 \n",
    "rate_Ar_3000V = 151443/120 #49585/120 18046/120\n",
    "\n",
    "sum_Vac_0000V = np.sum(counts3_Vac_TPB1)\n",
    "sum_Vac_1000V = np.sum(counts3_Vac_TPB2)\n",
    "sum_Vac_2000V = np.sum(counts3_Vac_TPB3)\n",
    "sum_Vac_3000V = np.sum(counts3_Vac_TPB4)\n",
    "rate_Vac_0000V = 525/120 #18046/120  49392/120 \n",
    "rate_Vac_1000V = 549/120 #49585/120 18046/120\n",
    "rate_Vac_2000V = 501/120 #18046/120  49392/120 \n",
    "rate_Vac_3000V = 557/120 #49585/120 18046/120\n",
    "\n",
    "# sum_alpha1 = np.sum(counts3_Ar20_TPB2)\n",
    "# sum_alpha2 = np.sum(counts3_Ar20_TPB2)\n",
    "# sum_noalpha1 = np.sum(counts3_Ar20_TPB1)\n",
    "# sum_noalpha2 = np.sum(counts3_Ar20_TPB2)\n",
    "# rate_alpha1 = 51231/120 #51231/120\n",
    "# rate_alpha2 = #58948/120 #51231/120\n",
    "# rate_noalpha1 = 18046/120 #51231/120\n",
    "# rate_noalpha2 = #58948/120 #51231/120\n",
    "\n",
    "# sum_TPB1 = np.sum(counts3_Ar20_TPB2)\n",
    "# # sum_TPB2 = np.sum(counts3_Ar20_TPB2)\n",
    "# sum_noTPB1 = np.sum(counts3_Ar20_TPB1)\n",
    "# # sum_noTPB2 = np.sum(counts3_Ar20_TPB2)\n",
    "# rate_TPB1 = 51231/120 #51231/120\n",
    "# # rate_TPB2 = #58948/120 #51231/120\n",
    "# rate_noTPB1 = 51231/120 #51231/120\n",
    "# # rate_noaTPB2 = #58948/120 #51231/120\n",
    "\n",
    "# sum_lightson1 = np.sum(counts3_Ar20_TPB1)\n",
    "# sum_lightsoff1 = np.sum(counts3_Ar20_TPB2)\n",
    "# sum_lightson2 = np.sum(counts3_Ar20_TPB3)\n",
    "# sum_lightsoff2 = np.sum(counts3_Ar20_TPB4)\n",
    "# rate_lightson1 = 50421/120 #51231/120\n",
    "# rate_lightsoff1 = 49392/120\n",
    "# rate_lightson2 = 58948/120 #51231/120\n",
    "# rate_lightsoff2 = 49585/120\n",
    "\n",
    "# sum_00psi1 = np.sum(counts3_Ar20_TPB1)\n",
    "# sum_Vac1 = np.sum(counts3_Ar20_TPB2)\n",
    "# sum_00psi2 = np.sum(counts3_Ar20_TPB3)\n",
    "# sum_Vac2 = np.sum(counts3_Ar20_TPB4)\n",
    "# rate_00psi1 = 51231/120 #51231/120\n",
    "# rate_Vac1 = 2829/120\n",
    "# rate_00psi2 = 58948/120 #51231/120\n",
    "# rate_Vac2 = 49585/120\n",
    "\n",
    "\n",
    "f, ax = plt.subplots(1)\n",
    "\n",
    "# ax.plot(bins3_Ar20_TPB1[1:],counts3_Ar20_TPB1*(rate_noalpha1/sum_noalpha1), color ='r', alpha = 0.6)\n",
    "# ax.plot(bins3_Ar20_TPB2[1:],counts3_Ar20_TPB2*(rate_alpha1/sum_alpha1), color ='b', alpha = 0.6)\n",
    "# ax.plot(bins3_Ar20_TPB1[1:],counts3_Ar20_TPB1*(rate_noalpha2/sum_noalpha2), color ='r', alpha = 0.6)\n",
    "# ax.plot(bins3_Ar20_TPB2[1:],counts3_Ar20_TPB2*(rate_alpha2/sum_alpha2), color ='b', alpha = 0.6)\n",
    "\n",
    "\n",
    "# ax.plot(bins3_Ar20_TPB1[1:],(counts3_Ar20_TPB1/sum_Ar_0000V)*rate_Ar_0000V, color = 'purple', alpha = 0.6)\n",
    "# ax.plot(bins3_Ar20_TPB2[1:],(counts3_Ar20_TPB2/sum_Ar_1000V)*rate_Ar_1000V, color = 'blue', alpha = 0.6)\n",
    "# ax.plot(bins3_Ar20_TPB3[1:],(counts3_Ar20_TPB3/sum_Ar_2000V)*rate_Ar_2000V, color = 'green', alpha = 0.6)\n",
    "# ax.plot(bins3_Ar20_TPB4[1:],(counts3_Ar20_TPB4/sum_Ar_3000V)*rate_Ar_3000V, color = 'cyan',alpha = 0.6)\n",
    "ax.plot(bins3_Vac_TPB1[1:],(counts3_Vac_TPB1/sum_Vac_0000V)*rate_Vac_0000V, color = 'black', alpha = 0.6)\n",
    "ax.plot(bins3_Vac_TPB2[1:],(counts3_Vac_TPB2/sum_Vac_1000V)*rate_Vac_1000V, color = 'red', alpha = 0.6)\n",
    "ax.plot(bins3_Vac_TPB3[1:],(counts3_Vac_TPB3/sum_Vac_2000V)*rate_Vac_2000V, color = 'orange', alpha = 0.6)\n",
    "ax.plot(bins3_Vac_TPB4[1:],(counts3_Vac_TPB4/sum_Vac_3000V)*rate_Vac_3000V, color = 'yellow', alpha = 0.6)\n",
    "\n",
    "# ax.plot(bins2_Ar20_TPB1[1:],counts2_Ar20_TPB1*(rate_noTPB1/sum_noTPB1), color ='r', alpha = 0.6)\n",
    "# ax.plot(bins2_Ar20_TPB2[1:],counts2_Ar20_TPB2*(rate_TPB1/sum_TPB1), color ='b', alpha = 0.6)\n",
    "# ax.plot(bins3_Ar20_TPB1[1:],counts3_Ar20_TPB1*(rate_00psi1/sum_00psi1), color ='r', alpha = 0.6)\n",
    "# ax.plot(bins3_Ar20_TPB2[1:],counts3_Ar20_TPB2*(rate_Vac1/sum_Vac1), color ='b', alpha = 0.6)\n",
    "\n",
    "\n",
    "# ax.plot(bins3_Ar20_TPB1[1:],counts3_Ar20_TPB1*(rate_lightsoff1/sum_lightsoff1), color ='r', alpha = 0.6)\n",
    "# ax.plot(bins3_Ar20_TPB2[1:],counts3_Ar20_TPB2*(rate_lightson1/sum_lightson1), color ='b', alpha = 0.6)\n",
    "# ax.plot(bins3_Ar20_TPB1[1:],counts3_Ar20_TPB1*(rate_00psi1/sum_00psi1), color ='r', alpha = 0.6)\n",
    "# ax.plot(bins3_Ar20_TPB2[1:],counts3_Ar20_TPB2*(rate_Vac1/sum_Vac1), color ='b', alpha = 0.6)\n",
    "\n",
    "# ax.legend((r'without $\\alpha$ src; Rate ≈ 150.383 pulse $\\mathregular{s^-}\\mathregular{^1}$',r'with $\\alpha$ src; Rate ≈ 426.925 pulse $\\mathregular{s^-}\\mathregular{^1}$'), loc = 'upper right', prop={'size':8})\n",
    "# ax.legend((r'without TPB; Rate ≈ 426.925 pulse $\\mathregular{s^-}\\mathregular{^1}$',r'with TPB; Rate ≈ 426.925 pulse $\\mathregular{s^-}\\mathregular{^1}$'), loc = 'upper right', prop={'size':8})\n",
    "# ax.legend((r'lights off; Rate ≈ 411.600 pulse $\\mathregular{s^-}\\mathregular{^1}$',r'lights on; Rate ≈ 420.175 pulse $\\mathregular{s^-}\\mathregular{^1}$'), loc = 'upper right', prop={'size':8})\n",
    "# ax.legend((r'lights off; Rate ≈ 413.208 pulse $\\mathregular{s^-}\\mathregular{^1}$',r'lights on; Rate ≈ 491.233 pulse $\\mathregular{s^-}\\mathregular{^1}$'), loc = 'upper right', prop={'size':8})\n",
    "# ax.legend((r'Ar - 0000V; Rate ≈ 427 pulse $\\mathregular{s^-}\\mathregular{^1}$',r'Ar - 1000V; Rate ≈ 1089 pulse $\\mathregular{s^-}\\mathregular{^1}$',r'Ar - 2000V; Rate ≈ 2252 pulse $\\mathregular{s^-}\\mathregular{^1}$',r'Ar - 3000V; Rate ≈ 12620 pulse $\\mathregular{s^-}\\mathregular{^1}$', \n",
    "#           r'Vac - 0000V; Rate ≈ 4.38 pulse $\\mathregular{s^-}\\mathregular{^1}$',r'Vac - 1000V; Rate ≈ 4.58 pulse $\\mathregular{s^-}\\mathregular{^1}$',r'Vac - 2000V; Rate ≈ 4.18 pulse $\\mathregular{s^-}\\mathregular{^1}$',r'Vac - 3000V; Rate ≈ 4.64 pulse $\\mathregular{s^-}\\mathregular{^1}$'), loc = 'upper right', prop={'size':9}, bbox_to_anchor=(1.61, 1.0))\n",
    "ax.legend((r'0000V; Rate ≈ 4.38 pulse $\\mathregular{s^-}\\mathregular{^1}$',r'1000V; Rate ≈ 4.58 pulse $\\mathregular{s^-}\\mathregular{^1}$',r'2000V; Rate ≈ 4.18 pulse $\\mathregular{s^-}\\mathregular{^1}$',r'3000V; Rate ≈ 4.64 pulse $\\mathregular{s^-}\\mathregular{^1}$'), loc = 'upper right', prop={'size':8})\n",
    "# ax.legend((r'0000V; Rate ≈ 427 pulse $\\mathregular{s^-}\\mathregular{^1}$',r'1000V; Rate ≈ 1089 pulse $\\mathregular{s^-}\\mathregular{^1}$',r'2000V; Rate ≈ 2252 pulse $\\mathregular{s^-}\\mathregular{^1}$',r'3000V; Rate ≈ 12620 pulse $\\mathregular{s^-}\\mathregular{^1}$'), loc = 'upper right', prop={'size':8})\n",
    "# ax.legend((r'00 psig; Rate ≈ 426.925 pulse $\\mathregular{s^-}\\mathregular{^1}$',r'Vacuum; Rate ≈ 23.575 pulse $\\mathregular{s^-}\\mathregular{^1}$'), loc = 'upper right', prop={'size':8})\n",
    "\n",
    "\n",
    "# plt.suptitle(r'100% Ar - 00 psig (1.0 atm) logscale; $\\alpha$ src comparison')\n",
    "# plt.suptitle(r'100% Ar - 00 psig (1.0 atm) logscale; Gas/Vac comparison')\n",
    "# plt.suptitle(r'100% Ar - 00 psig (1.0 atm) logscale; environmental light comparison')\n",
    "# plt.suptitle(r'100% Ar - 00 psig (1.0 atm) logscale; TPB comparison')\n",
    "# plt.suptitle(r'100% Ar - 00 psig (1.0 atm) logscale; Electrode Bias Comparison logscale')\n",
    "# plt.suptitle(r'100% Ar - 00 psig (1.0 atm), Electrode Bias Comparison - logscale')\n",
    "plt.suptitle(r'Vacuum - 1.58e-8 psig, Electrode Bias Comparison - logscale')\n",
    "# plt.suptitle(r'Vacuum/Ar, Electrode Bias Comparison - logscale')\n",
    "\n",
    "plt.title('Normalized by Pulse Rate', fontsize = 10)\n",
    "\n",
    "\n",
    "plt.xlabel('Time (s)',fontsize=10)\n",
    "plt.ylabel('Aribitrary Units',fontsize=10)\n",
    "plt.xticks(fontsize=10)\n",
    "plt.ticklabel_format(axis='x', style='sci', scilimits=(-3,3))\n",
    "plt.yticks(fontsize=10)\n",
    "# plt.ylim(0.004,800)\n",
    "# plt.xlim(-0.5e-5,1.0e-5) \n",
    "plt.yscale('log')\n",
    "\n",
    "plt.savefig('/Users/neutrino/Ryne/Vac_log_electrodecomparison_071819_01.pdf')\n",
    "plt.show()"
   ]
  },
  {
   "cell_type": "code",
   "execution_count": 370,
   "metadata": {},
   "outputs": [
    {
     "data": {
      "text/plain": [
       "0.9679062232489869"
      ]
     },
     "execution_count": 370,
     "metadata": {},
     "output_type": "execute_result"
    }
   ],
   "source": [
    "np.sum(counts2_Ar20_0000V*(rate_TPB1/sum_TPB1))/np.sum(counts2_Ar20_TPB1*(rate_noTPB1/sum_noTPB1))"
   ]
  },
  {
   "cell_type": "code",
   "execution_count": 244,
   "metadata": {},
   "outputs": [
    {
     "data": {
      "image/png": "[encoded data removed]",
      "text/plain": [
       "<matplotlib.figure.Figure at 0x1a128ee3c8>"
      ]
     },
     "metadata": {},
     "output_type": "display_data"
    }
   ],
   "source": [
    "f, ax = plt.subplots(1)\n",
    "\n",
    "ax.plot(bins3_Ar20_TPB1[1:], counts3_Ar20_TPB1/426.925, color ='r', alpha = 0.7)\n",
    "ax.plot(bins3_Ar20_TPB2[1:], counts3_Ar20_TPB2/45.868, color ='b', alpha = 0.7)\n",
    "\n",
    "plt.legend((r'without $\\alpha$ src; Rate = 45.868 pulse $\\mathregular{s^-}\\mathregular{^1}$',r'with $\\alpha$ src; Rate = 426.925 pulse $\\mathregular{s^-}\\mathregular{^1}$'), loc = 'upper right', prop={'size':8})\n",
    "\n",
    "plt.suptitle(r'100% Ar - 00 psig (1.0 atm) logscale; $\\alpha$ src comparison')\n",
    "plt.title('Normalized by Pulse Rate')\n",
    "\n",
    "\n",
    "plt.xlabel('Time (s)',fontsize=10)\n",
    "plt.ylabel(r'Time (s)',fontsize=10)\n",
    "plt.xticks(fontsize=10)\n",
    "plt.ticklabel_format(axis='x', style='sci', scilimits=(-3,3))\n",
    "plt.yticks(fontsize=10)\n",
    "#plt.ylim(-22,2)\n",
    "# plt.xlim(-0.5e-5,2.0e-5) \n",
    "plt.yscale('log')\n",
    "\n",
    "plt.savefig('/Users/neutrino/Ryne/Time_constant_histo_Ar00_log_alphasrccomparison_070819_02.pdf')\n",
    "plt.show()"
   ]
  },
  {
   "cell_type": "code",
   "execution_count": 37,
   "metadata": {},
   "outputs": [
    {
     "data": {
      "text/plain": [
       "25002"
      ]
     },
     "execution_count": 37,
     "metadata": {},
     "output_type": "execute_result"
    }
   ],
   "source": [
    "len(datX)"
   ]
  },
  {
   "cell_type": "code",
   "execution_count": null,
   "metadata": {
    "collapsed": true
   },
   "outputs": [],
   "source": [
    "temp_bins = bins2_Ar20[1:]\n",
    "\n",
    "plt.title('100% Ar - 20psi logscale')\n",
    "plt.xticks(fontsize=10)\n",
    "plt.ticklabel_format(axis='x', style='sci', scilimits=(-3,3))\n",
    "plt.xlabel('Time (s)',fontsize=10)\n",
    "plt.ylabel('Pulse count log()',fontsize=10)\n",
    "\n",
    "temp_bins2 = temp_bins[1344:]\n",
    "temp_counts = counts2_Ar20[1344:]\n",
    "\n",
    "plt.plot(temp_bins2,np.log(temp_counts)) \n",
    "\n",
    "fit = np.polyfit(temp_bins2,np.log(temp_counts),1)\n",
    "fitfunc = np.poly1d(fit)\n",
    "\n",
    "plt.plot(temp_bins2, fitfunc(temp_bins2))\n",
    "\n",
    "print(fitfunc)\n",
    "\n",
    "tau = 1/(fitfunc[1])\n",
    "print(tau*-1e6)"
   ]
  },
  {
   "cell_type": "code",
   "execution_count": null,
   "metadata": {
    "collapsed": true
   },
   "outputs": [],
   "source": [
    "i, = np.where(bins2_Ar20 <= time_mark1[len(time_mark1)-1])\n",
    "i\n",
    "\n",
    "# print(bins3_Ar20)\n",
    "# print(time_mark[24])\n",
    "# print(bins1_Ar10[1155])\n",
    "\n",
    "# del_t = bins_Ar20[len(counts_Ar20)-1] - bins_Ar20[1157]\n",
    "\n",
    "# print(counts_Ar20[1157])\n",
    "# print(counts_Ar20[len(counts_Ar20)-1])\n",
    "\n",
    "# # print(bins2_Ar20[len(counts2_Ar20)-1])\n",
    "\n",
    "# print(del_t)"
   ]
  },
  {
   "cell_type": "code",
   "execution_count": null,
   "metadata": {
    "collapsed": true
   },
   "outputs": [],
   "source": [
    "Length2 = len(files2)\n",
    "Xavg2 = np.zeros(1000002)\n",
    "Yavg2 = np.zeros(1000002)\n",
    "count = 0 \n",
    "\n",
    "for Q in range(0,Length2):\n",
    "    datX2, datY2, info2 = readTrc(files2[Q])\n",
    "    if len(datX2) == 1000002:\n",
    "        count += 1\n",
    "        Xavg2 += datX2\n",
    "        Yavg2 += datY2\n",
    "Xavg2 = Xavg2/Length2\n",
    "Yavg2 = Yavg2/Length2\n",
    "\n",
    "print(count)"
   ]
  },
  {
   "cell_type": "code",
   "execution_count": null,
   "metadata": {
    "collapsed": true
   },
   "outputs": [],
   "source": [
    "Length3 = len(files3)\n",
    "Xavg3 = np.zeros(1000002)\n",
    "Yavg3 = np.zeros(1000002)\n",
    "\n",
    "for Q in range(0,Length3):\n",
    "    datX3, datY3, info3 = readTrc(files3[Q])\n",
    "    Xavg3 += datX3\n",
    "    Yavg3 += datY3\n",
    "Xavg3 = Xavg3/Length2\n",
    "Yavg3 = Yavg3/Length2"
   ]
  },
  {
   "cell_type": "code",
   "execution_count": null,
   "metadata": {
    "collapsed": true
   },
   "outputs": [],
   "source": [
    "len(datX2)"
   ]
  },
  {
   "cell_type": "code",
   "execution_count": null,
   "metadata": {
    "collapsed": true
   },
   "outputs": [],
   "source": [
    "time_mark2 = arr.array('d')\n",
    "Yval2 = arr.array('d')\n",
    "\n",
    "for Q in range(1,2501):\n",
    "    if Yavg2[Q] < -0.00175 and Yavg2[Q] < Yavg2[Q-1] and Yavg2[Q] < Yavg2[Q+1]:\n",
    "        time_mark2.append(Xavg2[Q]*1e6)\n",
    "        Yval2.append(Yavg2[Q]*1e3)"
   ]
  },
  {
   "cell_type": "code",
   "execution_count": null,
   "metadata": {
    "collapsed": true
   },
   "outputs": [],
   "source": [
    "plt.hist(datX2, bins = len(datX2))"
   ]
  },
  {
   "cell_type": "code",
   "execution_count": 273,
   "metadata": {},
   "outputs": [
    {
     "data": {
      "image/png": "[encoded data removed]",
      "text/plain": [
       "<matplotlib.figure.Figure at 0x1a1bf4d630>"
      ]
     },
     "metadata": {},
     "output_type": "display_data"
    }
   ],
   "source": [
    "## With TPB and Electric field\n",
    "\n",
    "# Length = len(files3)\n",
    "# pulse_count0_Ar20_TPB3 = arr.array('d')\n",
    "# pulse_count1_Ar20_TPB3 = arr.array('d')\n",
    "# pulse_count2_Ar20_TPB3 = arr.array('d')\n",
    "# pulse_count3_Ar20_TPB3 = arr.array('d')\n",
    "\n",
    "# pulse_count0_Ar20_TPB4 = arr.array('d')\n",
    "# pulse_count1_Ar20_TPB4 = arr.array('d')\n",
    "# pulse_count2_Ar20_TPB4 = arr.array('d')\n",
    "# pulse_count3_Ar20_TPB4 = arr.array('d')\n",
    "\n",
    "# for Q in range(0,Length):\n",
    "#     datX2, datY2, info2 = readTrc(files2[Q])\n",
    "#     if Q%1000 == 0:\n",
    "#         print(\"Checking file # \", Q)\n",
    "#     for R in range(1,len(datX2)-2):\n",
    "#         if datY2[R] < -0.00175: # and datY[R] < datY[R-1] and datY[R] < datY[R+1]:\n",
    "#             pulse_count0_Ar20_TPB3.append(datX2[R])\n",
    "#         if datY2[R] < -0.0020: # and datY[R] < datY[R-1] and datY[R] < datY[R+1]:\n",
    "#             pulse_count1_Ar20_TPB3.append(datX2[R])\n",
    "#         if datY2[R] < -0.0025: # and datY[R] < datY[R-1] and datY[R] < datY[R+1]:\n",
    "#             pulse_count2_Ar20_TPB3.append(datX2[R])\n",
    "#         if datY2[R] < -0.0050: # and datY[R] < datY[R-1] and datY[R] < datY[R+1]:\n",
    "#             pulse_count3_Ar20_TPB3.append(datX2[R])\n",
    "            \n",
    "# for Q in range(0,Length):\n",
    "#     datX3, datY3, info3 = readTrc(files3[Q])\n",
    "#     if Q%1000 == 0:\n",
    "#         print(\"Checking file # \", Q)\n",
    "#     for R in range(1,len(datX3)-2):\n",
    "#         if datY3[R] < -0.00175: # and datY[R] < datY[R-1] and datY[R] < datY[R+1]:\n",
    "#             pulse_count0_Ar20_TPB4.append(datX3[R])\n",
    "#         if datY3[R] < -0.0020: # and datY[R] < datY[R-1] and datY[R] < datY[R+1]:\n",
    "#             pulse_count1_Ar20_TPB4.append(datX3[R])\n",
    "#         if datY3[R] < -0.0025: # and datY[R] < datY[R-1] and datY[R] < datY[R+1]:\n",
    "#             pulse_count2_Ar20_TPB4.append(datX3[R])\n",
    "#         if datY3[R] < -0.0050: # and datY[R] < datY[R-1] and datY[R] < datY[R+1]:\n",
    "#             pulse_count3_Ar20_TPB4.append(datX3[R])\n",
    "\n",
    "# # for Q in range(0,Length):\n",
    "#     datX4, datY4, info4 = readTrc(files5[Q])\n",
    "#     if Q%1000 == 0:\n",
    "#         print(\"Checking file # \", Q)\n",
    "#     for R in range(1,len(datX4)-2):\n",
    "#         if datY4[R] < -0.00175: # and datY[R] < datY[R-1] and datY[R] < datY[R+1]:\n",
    "#             pulse_count_Ar20_TPB3.append(datX4[R])\n",
    "#         if datY4[R] < -0.0020: # and datY[R] < datY[R-1] and datY[R] < datY[R+1]:\n",
    "#             pulse_count1_Ar20_TPB3.append(datX4[R])\n",
    "#         if datY4[R] < -0.0025: # and datY[R] < datY[R-1] and datY[R] < datY[R+1]:\n",
    "#             pulse_count2_Ar20_TPB3.append(datX4[R])\n",
    "#         if datY4[R] < -0.0050: # and datY[R] < datY[R-1] and datY[R] < datY[R+1]:\n",
    "#             pulse_count3_Ar20_TPB3.append(datX4[R])            \n",
    "            \n",
    "            \n",
    "f, ax = plt.subplots(1)\n",
    "\n",
    "# counts0_Ar20_TPB3, bins0_Ar20_TPB3, bars0_Ar20_TPB3 = ax.hist(pulse_count0_Ar20_TPB3, bins = len(datX2), histtype='step')\n",
    "# counts1_Ar20_TPB3, bins1_Ar20_TPB3, bars1_Ar20_TPB3 = ax.hist(pulse_count1_Ar20_TPB3, bins = len(datX2), histtype='step',color ='r', alpha = 0.7) \n",
    "# counts2_Ar20_TPB3, bins2_Ar20_TPB3, bars2_Ar20_TPB3 = ax.hist(pulse_count2_Ar20_TPB3, bins = len(datX2), histtype='step',color ='g', alpha = 0.7) \n",
    "counts3_Ar20_TPB3, bins3_Ar20_TPB3, bars3_Ar20_TPB3 = ax.hist(pulse_count3_Ar20_TPB3, bins = 15000, histtype='step',color ='k', alpha = 0.7) \n",
    "\n",
    "\n",
    "# counts0_Ar20_TPB4, bins0_Ar20_TPB4, bars0_Ar20_TPB4 = ax.hist(pulse_count0_Ar20_TPB4, bins = len(datX3), histtype='step')\n",
    "# counts1_Ar20_TPB4, bins1_Ar20_TPB4, bars1_Ar20_TPB4 = ax.hist(pulse_count1_Ar20_TPB4, bins = len(datX3), histtype='step',color ='r', alpha = 0.7) \n",
    "# counts2_Ar20_TPB4, bins2_Ar20_TPB4, bars2_Ar20_TPB4 = ax.hist(pulse_count2_Ar20_TPB4, bins = len(datX3), histtype='step',color ='g', alpha = 0.7) \n",
    "counts3_Ar20_TPB4, bins3_Ar20_TPB4, bars3_Ar20_TPB4 = ax.hist(pulse_count3_Ar20_TPB4, bins = 15000, histtype='step',color ='k', alpha = 0.7) \n",
    "\n",
    "\n",
    "# for S in range(0,len(time_mark)):\n",
    "# plt.axvline(time_mark[24], linestyle='--', color='c')\n",
    "\n",
    "# plt.title('100% Ar - 20psi; lights off')\n",
    "# plt.title('100% Ar - 00 psig logscale; no TPB, no E field, w/ $\\alpha$ src, lights off')\n",
    "\n",
    "plt.xlabel('Time (s)',fontsize=10)\n",
    "plt.ylabel('Pulse count',fontsize=10)\n",
    "plt.xticks(fontsize=10)\n",
    "plt.ticklabel_format(axis='x', style='sci', scilimits=(-3,3))\n",
    "plt.yticks(fontsize=10)\n",
    "#plt.ylim(-22,2)\n",
    "# plt.xlim(-0.5e-3,4e-3) \n",
    "plt.yscale('log')\n",
    "\n",
    "# ax.legend(('< -1.75 mV','< -2.0 mV','< -2.5 mV', '< -5 mV'), loc = 'upper right')\n",
    "\n",
    "# '$t_{initial}$',\n",
    "#plt.savefig('Time_constant_histo_Ar10.pdf')\n",
    "# plt.savefig('Time_constant_histo_Ar25_log_TPB_superextendedrange_062619_01.pdf')\n",
    "# plt.savefig('Time_constant_histo_Ar10_fullrange.pdf')\n",
    "# plt.savefig('Time_constant_histo_Ar10_log_fullrange.pdf')\n",
    "# plt.savefig('Time_constant_histo_Ar10_log_fullrange_t0.pdf')\n",
    "\n",
    "\n",
    "plt.show()"
   ]
  },
  {
   "cell_type": "code",
   "execution_count": null,
   "metadata": {
    "collapsed": true
   },
   "outputs": [],
   "source": [
    "Length3 = len(files3)\n",
    "Xavg3 = np.zeros(len(datX3))\n",
    "Yavg3 = np.zeros(len(datX3))\n",
    "for Q in range(0,Length3):\n",
    "    datX3, datY3, info3 = readTrc(files3[Q])\n",
    "    Xavg3 += datX3\n",
    "    Yavg3 += datY3\n",
    "Xavg3 = Xavg3/Length3\n",
    "Yavg3 = Yavg3/Length3"
   ]
  },
  {
   "cell_type": "code",
   "execution_count": null,
   "metadata": {
    "collapsed": true
   },
   "outputs": [],
   "source": [
    "time_mark3 = arr.array('d')\n",
    "Yval3 = arr.array('d')\n",
    "\n",
    "for Q in range(1,2501):\n",
    "    if Yavg3[Q] < -0.00175 and Yavg3[Q] < Yavg3[Q-1] and Yavg3[Q] < Yavg3[Q+1]:\n",
    "        time_mark3.append(Xavg3[Q]*1e6)\n",
    "        Yval3.append(Yavg3[Q]*1e3)"
   ]
  },
  {
   "cell_type": "code",
   "execution_count": null,
   "metadata": {
    "collapsed": true
   },
   "outputs": [],
   "source": [
    "tripletstart = 0\n",
    "indx = 0\n",
    "\n",
    "for Q in range(1,len(datX)-1):\n",
    "    if datX[Q] <= 0.5e-5:\n",
    "        tripletstart = datX[Q]\n",
    "        indx = Q\n",
    "        \n",
    "print(tripletstart)\n",
    "print(indx)\n",
    "# print(datX3[7502])"
   ]
  },
  {
   "cell_type": "code",
   "execution_count": null,
   "metadata": {
    "collapsed": true
   },
   "outputs": [],
   "source": [
    "# # Data unfiltered \n",
    "\n",
    "Length = len(files3)\n",
    "pulse_count_Ar20_unf = arr.array('d')\n",
    "pulse_count1_Ar20_unf = arr.array('d')\n",
    "pulse_count2_Ar20_unf = arr.array('d')\n",
    "pulse_count3_Ar20_unf = arr.array('d')\n",
    "\n",
    "for Q in range(0,Length):\n",
    "    datX3, datY3, info3 = readTrc(files3[Q])\n",
    "    if Q%1000 == 0:\n",
    "        print(\"Checking file # \", Q)\n",
    "    for R in range(1,len(datX3)-2):\n",
    "        if datY3[R] < -0.00175: # and datY[R] < datY[R-1] and datY[R] < datY[R+1]:\n",
    "            pulse_count_Ar20_unf.append(datX3[R])\n",
    "        if datY3[R] < -0.00200: # and datY[R] < datY[R-1] and datY[R] < datY[R+1]:\n",
    "            pulse_count1_Ar20_unf.append(datX3[R])\n",
    "        if datY3[R] < -0.00250: # and datY[R] < datY[R-1] and datY[R] < datY[R+1]:\n",
    "            pulse_count2_Ar20_unf.append(datX3[R])\n",
    "        if datY3[R] < -0.00500: # and datY[R] < datY[R-1] and datY[R] < datY[R+1]:\n",
    "            pulse_count3_Ar20_unf.append(datX3[R])\n",
    "\n",
    "f, ax = plt.subplots(1)\n",
    "\n",
    "counts_Ar20_unf, bins_Ar20_unf, bars_Ar20_unf = ax.hist(pulse_count_Ar20_unf, bins = len(datX3), histtype='step')\n",
    "counts1_Ar20_unf, bins1_Ar20_unf, bars1_Ar20_unf = ax.hist(pulse_count1_Ar20_unf, bins = len(datX3), histtype='step',color ='r', alpha = 0.7) \n",
    "counts2_Ar20_unf, bins2_Ar20_unf, bars2_Ar20_unf = ax.hist(pulse_count2_Ar20_unf, bins = len(datX3), histtype='step',color ='g', alpha = 0.7) \n",
    "counts3_Ar20_unf, bins3_Ar20_unf, bars3_Ar20_unf = ax.hist(pulse_count3_Ar20_unf, bins = len(datX3), histtype='step',color ='k', alpha = 0.7) \n",
    "\n",
    "\n",
    "\n",
    "# for S in range(0,len(time_mark)):\n",
    "#     plt.axvline(time_mark[S], linestyle='--', color='r', alpha=0.3)\n",
    "\n",
    "# plt.title('97% Ar 3% Xe - 20psi')\n",
    "plt.title('100% Ar - 25psi logscale')\n",
    "\n",
    "plt.xlabel('Time (s)',fontsize=10)\n",
    "plt.ylabel('Pulse count',fontsize=10)\n",
    "plt.xticks(fontsize=10)\n",
    "plt.ticklabel_format(axis='x', style='sci', scilimits=(-3,3))\n",
    "plt.yticks(fontsize=10)\n",
    "# plt.ylim(-22,2)\n",
    "# plt.xlim(-0.5e-5,1.0e-5)    \n",
    "plt.yscale('log')\n",
    "\n",
    "ax.legend(('< -1.75 mV','< -2.0 mV','< -2.5 mV', '< -5 mV'), loc = 'upper right')\n",
    "\n",
    "# plt.savefig('Time_constant_histo_XeAr20.pdf')\n",
    "# plt.savefig('Time_constant_histo_XeAr20_log.pdf')\n",
    "# plt.savefig('Time_constant_histo_XeAr20_fullrange.pdf')\n",
    "# plt.savefig('Time_constant_histo_Ar25_log_TPB_Efield_062519.pdf')\n",
    "\n",
    "\n",
    "plt.show()"
   ]
  },
  {
   "cell_type": "code",
   "execution_count": null,
   "metadata": {
    "collapsed": true
   },
   "outputs": [],
   "source": [
    "# # Data unfiltered \n",
    "\n",
    "# Length = len(files4)\n",
    "# pulse_count_Ar20_unf1 = arr.array('d')\n",
    "# pulse_count1_Ar20_unf1 = arr.array('d')\n",
    "# pulse_count2_Ar20_unf1 = arr.array('d')\n",
    "# pulse_count3_Ar20_unf1 = arr.array('d')\n",
    "\n",
    "# for Q in range(0,Length):\n",
    "#     datX4, datY4, info4 = readTrc(files4[Q])\n",
    "#     if Q%1000 == 0:\n",
    "#         print(\"Checking file # \", Q)\n",
    "#     for R in range(1,len(datX4)-2):\n",
    "#         if datY4[R] < -0.00175: # and datY[R] < datY[R-1] and datY[R] < datY[R+1]:\n",
    "#             pulse_count_Ar20_unf1.append(datX4[R])\n",
    "#         if datY4[R] < -0.002: # and datY[R] < datY[R-1] and datY[R] < datY[R+1]:\n",
    "#             pulse_count1_Ar20_unf1.append(datX4[R])\n",
    "#         if datY4[R] < -0.0025: # and datY[R] < datY[R-1] and datY[R] < datY[R+1]:\n",
    "#             pulse_count2_Ar20_unf1.append(datX4[R])\n",
    "#         if datY4[R] < -0.005: # and datY[R] < datY[R-1] and datY[R] < datY[R+1]:\n",
    "#             pulse_count3_Ar20_unf1.append(datX4[R])\n",
    "\n",
    "f, ax = plt.subplots(1)\n",
    "\n",
    "counts_Ar20_unf1, bins_Ar20_unf1, bars_Ar20_unf1 = ax.hist(pulse_count_Ar20_unf1, bins = len(datX4), histtype='step')\n",
    "counts1_Ar20_unf1, bins1_Ar20_unf1, bars1_Ar20_unf1 = ax.hist(pulse_count1_Ar20_unf1, bins = len(datX4), histtype='step',color ='r', alpha = 0.7) \n",
    "counts2_Ar20_unf1, bins2_Ar20_unf1, bars2_Ar20_unf1 = ax.hist(pulse_count2_Ar20_unf1, bins = len(datX4), histtype='step',color ='g', alpha = 0.7) \n",
    "counts3_Ar20_unf1, bins3_Ar20_unf1, bars3_Ar20_unf1 = ax.hist(pulse_count3_Ar20_unf1, bins = len(datX4), histtype='step',color ='k', alpha = 0.7) \n",
    "\n",
    "\n",
    "\n",
    "# for S in range(0,len(time_mark)):\n",
    "#     plt.axvline(time_mark[S], linestyle='--', color='r', alpha=0.3)\n",
    "\n",
    "# plt.title('97% Ar 3% Xe - 20psi')\n",
    "plt.title('100% Ar - 25psi logscale; extended range')\n",
    "\n",
    "plt.xlabel('Time (s)',fontsize=10)\n",
    "plt.ylabel('Pulse count',fontsize=10)\n",
    "plt.xticks(fontsize=10)\n",
    "plt.ticklabel_format(axis='x', style='sci', scilimits=(-3,3))\n",
    "plt.yticks(fontsize=10)\n",
    "# plt.ylim(-22,2)\n",
    "# plt.xlim(-0.25e-3,2.0e-3) \n",
    "plt.xlim(-0.5e-5,1.0e-5)    \n",
    "plt.yscale('log')\n",
    "\n",
    "ax.legend(('< -1.75 mV','< -2.0 mV','< -2.5 mV', '< -5 mV'), loc = 'upper right')\n",
    "\n",
    "# plt.savefig('Time_constant_histo_XeAr20.pdf')\n",
    "# plt.savefig('Time_constant_histo_XeAr20_log.pdf')\n",
    "# plt.savefig('Time_constant_histo_XeAr20_fullrange.pdf')\n",
    "# plt.savefig('Time_constant_histo_Ar25_log_extendedrange_061419PMT1_4.pdf')\n",
    "\n",
    "\n",
    "plt.show()"
   ]
  },
  {
   "cell_type": "code",
   "execution_count": null,
   "metadata": {
    "collapsed": true
   },
   "outputs": [],
   "source": [
    "# # Data unfiltered \n",
    "\n",
    "# Length = len(files5)\n",
    "# pulse_count_Ar20_unf2 = arr.array('d')\n",
    "# pulse_count1_Ar20_unf2 = arr.array('d')\n",
    "# pulse_count2_Ar20_unf2 = arr.array('d')\n",
    "# pulse_count3_Ar20_unf2 = arr.array('d')\n",
    "\n",
    "# for Q in range(0,Length):\n",
    "#     datX5, datY5, info5 = readTrc(files5[Q])\n",
    "#     if Q%1000 == 0:\n",
    "#         print(\"Checking file # \", Q)\n",
    "#     for R in range(1,len(datX5)-2):\n",
    "#         if datY5[R] < -0.00175: # and datY[R] < datY[R-1] and datY[R] < datY[R+1]:\n",
    "#             pulse_count_Ar20_unf2.append(datX5[R])\n",
    "#         if datY5[R] < -0.002: # and datY[R] < datY[R-1] and datY[R] < datY[R+1]:\n",
    "#             pulse_count1_Ar20_unf2.append(datX5[R])\n",
    "#         if datY5[R] < -0.0025: # and datY[R] < datY[R-1] and datY[R] < datY[R+1]:\n",
    "#             pulse_count2_Ar20_unf2.append(datX5[R])\n",
    "#         if datY5[R] < -0.005: # and datY[R] > -0.0125: #  < datY[R-1] and datY[R] < datY[R+1]:\n",
    "#             pulse_count3_Ar20_unf2.append(datX5[R])\n",
    "\n",
    "f, ax = plt.subplots(1)\n",
    "\n",
    "# counts_Ar20_unf2, bins_Ar20_unf2, bars_Ar20_unf2 = ax.hist(pulse_count_Ar20_unf2, bins = len(datX5), histtype='step')\n",
    "# counts1_Ar20_unf2, bins1_Ar20_unf2, bars1_Ar20_unf2 = ax.hist(pulse_count1_Ar20_unf2, bins = len(datX5), histtype='step',color ='r', alpha = 0.7) \n",
    "counts2_Ar20_unf2, bins2_Ar20_unf2, bars2_Ar20_unf2 = ax.hist(pulse_count2_Ar20_unf2, bins = len(datX5), histtype='step',color ='g', alpha = 0.7) \n",
    "counts3_Ar20_unf2, bins3_Ar20_unf2, bars3_Ar20_unf2 = ax.hist(pulse_count3_Ar20_unf2, bins = len(datX5), histtype='step',color ='k', alpha = 0.7) \n",
    "\n",
    "\n",
    "\n",
    "# for S in range(0,len(time_mark)):\n",
    "#     plt.axvline(time_mark[S], linestyle='--', color='r', alpha=0.3)\n",
    "\n",
    "# plt.title('97% Ar 3% Xe - 20psi')\n",
    "plt.title('100% Ar - 25psi logscale; No E field')\n",
    "\n",
    "plt.xlabel('Time (s)',fontsize=10)\n",
    "plt.ylabel('Pulse count',fontsize=10)\n",
    "plt.xticks(fontsize=10)\n",
    "plt.ticklabel_format(axis='x', style='sci', scilimits=(-3,3))\n",
    "plt.yticks(fontsize=10)\n",
    "# plt.ylim(-22,2)\n",
    "plt.xlim(-0.5e-5,1.0e-5)    \n",
    "plt.yscale('log')\n",
    "\n",
    "# ax.legend(('< -1.75 mV','< -2.0 mV','< -2.5 mV', '< -5 mV'), loc = 'upper right')\n",
    "\n",
    "# plt.savefig('Time_constant_histo_XeAr20.pdf')\n",
    "# plt.savefig('Time_constant_histo_XeAr20_log.pdf'\n",
    "# plt.savefig('Time_constant_histo_XeAr20_fullrange.pdf')\n",
    "# plt.savefig('Time_constant_histo_Ar25_log_unfiltered.pdf')\n",
    "# plt.savefig('Time_constant_histo_Ar25_log_noEfield_061419PMT1_3.pdf')\n",
    "\n",
    "\n",
    "\n",
    "plt.show()"
   ]
  },
  {
   "cell_type": "code",
   "execution_count": null,
   "metadata": {
    "collapsed": true
   },
   "outputs": [],
   "source": [
    "Length4 = len(files4)\n",
    "Xavg4 = np.zeros(10002)\n",
    "Yavg4 = np.zeros(10002)\n",
    "for Q in range(0,Length4):\n",
    "    datX4, datY4, info4 = readTrc(files4[Q])\n",
    "    Xavg4 += datX4\n",
    "    Yavg4 += datY4\n",
    "Xavg4 = Xavg4/Length4\n",
    "Yavg4 = Yavg4/Length4"
   ]
  },
  {
   "cell_type": "code",
   "execution_count": null,
   "metadata": {
    "collapsed": true
   },
   "outputs": [],
   "source": [
    "Length4"
   ]
  },
  {
   "cell_type": "code",
   "execution_count": null,
   "metadata": {
    "collapsed": true
   },
   "outputs": [],
   "source": [
    "time_mark4 = arr.array('d')\n",
    "Yval4 = arr.array('d')\n",
    "\n",
    "for Q in range(1,2501):\n",
    "    if Yavg4[Q] < -0.0003 and Yavg4[Q] < Yavg4[Q-1] and Yavg4[Q] < Yavg4[Q+1]:\n",
    "        time_mark4.append(Xavg4[Q]*1e6)\n",
    "        Yval4.append(Yavg4[Q]*1e3)"
   ]
  },
  {
   "cell_type": "code",
   "execution_count": null,
   "metadata": {
    "collapsed": true
   },
   "outputs": [],
   "source": [
    "# ### With TPB and Electric field\n",
    "\n",
    "# Length = len(files4)\n",
    "# pulse_count0_Ar20_TPB4 = arr.array('d')\n",
    "# pulse_count1_Ar20_TPB4 = arr.array('d')\n",
    "# pulse_count2_Ar20_TPB4 = arr.array('d')\n",
    "# pulse_count3_Ar20_TPB4 = arr.array('d')\n",
    "\n",
    "# for Q in range(0,Length):\n",
    "#     datX4, datY4, info4 = readTrc(files4[Q])\n",
    "#     if Q%1000 == 0:\n",
    "#         print(\"Checking file # \", Q)\n",
    "#     for R in range(1,len(datX4)-2):\n",
    "#         if datY4[R] < -0.00175: # and datY[R] < datY[R-1] and datY[R] < datY[R+1]:\n",
    "#             pulse_count0_Ar20_TPB4.append(datX4[R])\n",
    "#         if datY4[R] < -0.0020: # and datY[R] < datY[R-1] and datY[R] < datY[R+1]:\n",
    "#             pulse_count1_Ar20_TPB4.append(datX4[R])\n",
    "#         if datY4[R] < -0.0025: # and datY[R] < datY[R-1] and datY[R] < datY[R+1]:\n",
    "#             pulse_count2_Ar20_TPB4.append(datX4[R])\n",
    "#         if datY4[R] < -0.0050: # and datY[R] < datY[R-1] and datY[R] < datY[R+1]:\n",
    "#             pulse_count3_Ar20_TPB4.append(datX4[R])\n",
    "            \n",
    "f, ax = plt.subplots(1)\n",
    "\n",
    "# counts0_Ar20_TPB4, bins0_Ar20_TPB4, bars0_Ar20_TPB4 = ax.hist(pulse_count0_Ar20_TPB4, bins = len(datX4), histtype='step')\n",
    "# counts1_Ar20_TPB4, bins1_Ar20_TPB4, bars1_Ar20_TPB4 = ax.hist(pulse_count1_Ar20_TPB4, bins = len(datX4), histtype='step',color ='r', alpha = 0.7) \n",
    "# counts2_Ar20_TPB4, bins2_Ar20_TPB4, bars2_Ar20_TPB4 = ax.hist(pulse_count2_Ar20_TPB4, bins = len(datX4), histtype='step',color ='g', alpha = 0.7) \n",
    "counts3_Ar20_TPB4, bins3_Ar20_TPB4, bars3_Ar20_TPB4 = ax.hist(pulse_count3_Ar20_TPB4, bins = len(datX4), histtype='step',color ='k', alpha = 0.7) \n",
    "\n",
    "# for S in range(0,len(time_mark)):\n",
    "# plt.axvline(time_mark[24], linestyle='--', color='c')\n",
    "\n",
    "# plt.title('100% Ar - 20psi; lights off')\n",
    "plt.title('100% Ar - 0psig logscale; TPB in chamber')\n",
    "\n",
    "plt.xlabel('Time (s)',fontsize=10)\n",
    "plt.ylabel('Pulse count',fontsize=10)\n",
    "plt.xticks(fontsize=10)\n",
    "plt.ticklabel_format(axis='x', style='sci', scilimits=(-3,3))\n",
    "plt.yticks(fontsize=10)\n",
    "#plt.ylim(-22,2)\n",
    "plt.xlim(-0.5e-5,10.0e-5) \n",
    "plt.yscale('log')\n",
    "\n",
    "# ax.legend(('< -1.75 mV','< -2.0 mV','< -2.5 mV', '< -5 mV'), loc = 'upper right')\n",
    "\n",
    "# '$t_{initial}$',\n",
    "#plt.savefig('Time_constant_histo_Ar10.pdf')\n",
    "# plt.savefig('Time_constant_histo_Ar0_log_TPB_062719_superlong.pdf')\n",
    "# plt.savefig('Time_constant_histo_Ar10_fullrange.pdf')\n",
    "# plt.savefig('Time_constant_histo_Ar10_log_fullrange.pdf')\n",
    "# plt.savefig('Time_constant_histo_Ar10_log_fullrange_t0.pdf')\n",
    "\n",
    "\n",
    "plt.show()"
   ]
  },
  {
   "cell_type": "code",
   "execution_count": null,
   "metadata": {
    "collapsed": true,
    "scrolled": true
   },
   "outputs": [],
   "source": [
    "plt.figure(figsize=(10,7))\n",
    "\n",
    "\n",
    "f, ax = plt.subplots(1)\n",
    "\n",
    "# ax.plot(Xavg*1e6,Yavg*1e3,color='k',linewidth=1,alpha=0.5)\n",
    "# ax.scatter(time_mark*1e6,Yval*1e3,marker='x', color='k',s=5)\n",
    "\n",
    "# ax.plot(Xavg1*1e6,Yavg1*1e3,color='b',linewidth=1,alpha=0.5)\n",
    "# ax.scatter(time_mark1,Yval1,marker='o', color='b',s=5)\n",
    "\n",
    "ax.plot(Xavg2*1e6,Yavg2*1e3,color='r',linewidth=1,alpha=0.5)\n",
    "# ax.scatter(time_mark2,Yval2,marker='s', color='r',s=5)\n",
    "\n",
    "ax.plot(Xavg3*1e6,Yavg3*1e3,color='g',linewidth=1,alpha=0.5)\n",
    "# ax.scatter(time_mark3,Yval3,marker='^', color='g',s=5)\n",
    "\n",
    "# ax.plot(Xavg4*1e6,Yavg4*1e3,color='c',linewidth=1,alpha=0.5)\n",
    "# ax.scatter(time_mark4,Yval4,marker='*',color='c',s=5)\n",
    "\n",
    "\n",
    "# plt.title('Average Waveforms', fontsize=20)\n",
    "#plt.title('100% Ar (10psi) - Average Waveform', fontsize=20)\n",
    "plt.title('100% Ar @ 25psi Average Waveform; TPB in chamber', fontsize=12)\n",
    "#plt.title('97% Ar 3% Xe (10psi) - Average Waveform', fontsize=20)\n",
    "#plt.title('97% Ar 3% Xe (20psi) - Average Waveform', fontsize=20)\n",
    "#plt.title('Vacuum - Average Waveform', fontsize=20)\n",
    "\n",
    "plt.xlabel('Time ($\\mu$s)',fontsize=10)\n",
    "plt.ylabel('Voltage (mV)',fontsize=10)\n",
    "plt.xticks(fontsize=10)\n",
    "plt.yticks(fontsize=10)\n",
    "# plt.yscale('log')\n",
    "# plt.ylim(-22,2)\n",
    "# plt.xlim(-1,4)\n",
    "\n",
    "# ax.legend(('Ar 1.0 - 10psi', 'Ar 1.0 - 20psi', 'Ar 0.97 Xe 0.03 - 10psi', 'Ar 0.97 Xe 0.03 - 20psi', 'Vacuum'), loc= 'lower right')\n",
    "\n",
    "#plt.savefig('Waveforms.pdf')\n",
    "#plt.savefig('Ar10_Waveforms.pdf')\n",
    "# plt.savefig('Ar25_AvgWave_TPB_9mV.pdf')\n",
    "#plt.savefig('ArXe10_Waveforms.pdf')\n",
    "#plt.savefig('ArXe20_Waveforms.pdf')\n",
    "#plt.savefig('Vacuum_Waveforms.pdf')\n",
    "\n",
    "\n",
    "#print(time_mark)\n",
    "plt.show()"
   ]
  },
  {
   "cell_type": "code",
   "execution_count": null,
   "metadata": {
    "collapsed": true
   },
   "outputs": [],
   "source": [
    "print(Yval4[0])\n",
    "print(Yval4[2])\n",
    "\n",
    "print(Yval4[4])\n",
    "print(Yval4[len(Yval4)-1])\n",
    "\n",
    "print(time_mark4[2] -- time_mark4[0])\n",
    "\n",
    "print(time_mark4[len(Yval4)-1] -- time_mark4[4])\n"
   ]
  },
  {
   "cell_type": "code",
   "execution_count": null,
   "metadata": {
    "collapsed": true
   },
   "outputs": [],
   "source": [
    "Length5 = len(files5)\n",
    "Xavg5 = np.zeros(500002)\n",
    "Yavg5 = np.zeros(500002)\n",
    "for Q in range(0,Length5):\n",
    "    datX5, datY5, info5 = readTrc(files5[Q])\n",
    "    Xavg5 += datX5\n",
    "    Yavg5 += datY5\n",
    "Xavg5 = Xavg5/Length5\n",
    "Yavg5 = Yavg5/Length5\n",
    "\n",
    "# Length6 = len(files6)\n",
    "# Xavg6 = np.zeros(len(datX6))\n",
    "# Yavg6 = np.zeros(len(datX6))\n",
    "# for Q in range(0,Length6):\n",
    "#     datX6, datY6, info6 = readTrc(files6[Q])\n",
    "#     Xavg6 += datX6\n",
    "#     Yavg6 += datY6\n",
    "# Xavg6 = Xavg6/Length6\n",
    "# Yavg6 = Yavg6/Length6"
   ]
  },
  {
   "cell_type": "code",
   "execution_count": null,
   "metadata": {
    "collapsed": true
   },
   "outputs": [],
   "source": [
    "time_mark5 = arr.array('d')\n",
    "Yval5 = arr.array('d')\n",
    "\n",
    "for Q in range(1,len(Xavg5)-1):\n",
    "    if Yavg5[Q] < -0.00175 and Yavg5[Q] < Yavg5[Q-1] and Yavg5[Q] < Yavg5[Q+1]:\n",
    "        time_mark5.append(Xavg5[Q])\n",
    "        Yval5.append(Yavg5[Q])"
   ]
  },
  {
   "cell_type": "code",
   "execution_count": null,
   "metadata": {
    "collapsed": true
   },
   "outputs": [],
   "source": [
    "# Length5 = len(files5)\n",
    "# # Length6 = len(files6)\n",
    "# pulse_count0_Ar20_1Mohm = arr.array('d')\n",
    "# pulse_count1_Ar20_1Mohm = arr.array('d')\n",
    "# pulse_count2_Ar20_1Mohm = arr.array('d')\n",
    "# pulse_count3_Ar20_1Mohm = arr.array('d')\n",
    "# # pulse_count0_Ar20_vac2 = arr.array('d')\n",
    "# # pulse_count1_Ar20_vac2 = arr.array('d')\n",
    "# # pulse_count2_Ar20_vac2 = arr.array('d')\n",
    "# # pulse_count3_Ar20_vac2 = arr.array('d')\n",
    "\n",
    "\n",
    "# for Q in range(0,Length5):\n",
    "#     datX5, datY5, info5 = readTrc(files5[Q])\n",
    "#     if Q%500 == 0:\n",
    "#         print(\"Checking file # \", Q)\n",
    "#     for R in range(1,len(datX5)-2):\n",
    "#         if datY5[R] < -0.00175:\n",
    "#             pulse_count0_Ar20_1Mohm.append(datX5[R])\n",
    "#         if datY5[R] < -0.002: \n",
    "#             pulse_count1_Ar20_1Mohm.append(datX5[R])\n",
    "#         if datY5[R] < -0.0025:\n",
    "#             pulse_count2_Ar20_1Mohm.append(datX5[R])\n",
    "#         if datY5[R] < -0.005:\n",
    "#             pulse_count3_Ar20_1Mohm.append(datX5[R])\n",
    "            \n",
    "# for Q in range(0,Length6):\n",
    "#     datX6, datY6, info6 = readTrc(files6[Q])\n",
    "#     if Q%1000 == 0:\n",
    "#         print(\"Checking file # \", Q)\n",
    "#     for R in range(1,len(datX6)-2):\n",
    "#         if datY6[R] < -0.00175:\n",
    "#             pulse_count0_Ar20_vac2.append(datX6[R])\n",
    "#         if datY6[R] < -0.002: \n",
    "#             pulse_count1_Ar20_vac2.append(datX6[R])\n",
    "#         if datY6[R] < -0.0025:\n",
    "#             pulse_count2_Ar20_vac2.append(datX6[R])\n",
    "#         if datY6[R] < -0.005:\n",
    "#             pulse_count3_Ar20_vac2.append(datX6[R])\n",
    "\n",
    "f, ax = plt.subplots(1)\n",
    "\n",
    "counts0_Ar20_1Mohm, bins0_Ar20_1Mohm, bars0_Ar20_1Mohm = ax.hist(pulse_count0_Ar20_1Mohm, bins = len(datX5), histtype='step')\n",
    "counts1_Ar20_1Mohm, bins1_Ar20_1Mohm, bars1_Ar20_1Mohm = ax.hist(pulse_count1_Ar20_1Mohm, bins = len(datX5), histtype='step',color ='r', alpha = 0.6) \n",
    "counts2_Ar20_1Mohm, bins2_Ar20_1Mohm, bars2_Ar20_1Mohm = ax.hist(pulse_count2_Ar20_1Mohm, bins = len(datX5), histtype='step',color ='g', alpha = 0.6)\n",
    "counts3_Ar20_1Mohm, bins3_Ar20_1Mohm, bars3_Ar20_1Mohm = ax.hist(pulse_count3_Ar20_1Mohm, bins = len(datX5), histtype='step',color ='k', alpha = 0.6)\n",
    "\n",
    "\n",
    "\n",
    "# for S in range(0,len(time_mark5)):\n",
    "#     plt.axvline(time_mark5[S], linestyle='--', color='c')\n",
    "\n",
    "# plt.title(r'Pure Argon 20 psi - $\\alpha$ source')\n",
    "# plt.title(r'Vacuum ~3e-7 Torr - $\\alpha$ source logscale')\n",
    "plt.title(r'Pure Argon 25 psi - $\\alpha$ source logscale; 1 Megaohm termination')\n",
    "\n",
    "# plt.subtitle('Direct view')\n",
    "\n",
    "plt.xlabel('Time (s)',fontsize=10)\n",
    "# plt.ylabel('Pulse count',fontsize=10)\n",
    "plt.ylabel('Pulse count log()',fontsize=10)\n",
    "plt.xticks(fontsize=10)\n",
    "plt.ticklabel_format(axis='x', style='sci', scilimits=(-3,3))\n",
    "plt.yticks(fontsize=10)\n",
    "# plt.ylim(0, 10000)\n",
    "plt.xlim(-0.25e-5,1.5e-5)    \n",
    "plt.yscale('log')\n",
    "\n",
    "# ax.legend(('-2.5 mV threshold','-5.0 mV threshold'), loc = 'upper right') \n",
    "\n",
    "# ax.legend(('< -1.75 mV', '< -2.0 mV','< -2.5 mV','< -5.0 mV'), loc = 'upper right') \n",
    "\n",
    "# plt.savefig('Histo_Ar20_alphasrc.pdf')\n",
    "# plt.savefig('Histo_Ar20_alphasrc_log.pdf')\n",
    "#\n",
    "plt.savefig('Time_constant_histo_Ar25_log_062419PMT1_1MohmTerm_02.pdf')\n",
    "# plt.savefig('Time_constant_histo_Vac_log_TPB_Efield_062519.pdf')\n",
    "\n",
    "\n",
    "plt.show()"
   ]
  },
  {
   "cell_type": "code",
   "execution_count": null,
   "metadata": {
    "collapsed": true
   },
   "outputs": [],
   "source": [
    "noise_base = np.sum(counts2_Ar20[0:1500])/(len(counts2_Ar20[0:1500]))\n",
    "noise_base\n",
    "# noise_base5 = np.sum(counts5_Ar20[0:1500])/(len(counts5_Ar20[0:1500]))"
   ]
  },
  {
   "cell_type": "code",
   "execution_count": 462,
   "metadata": {},
   "outputs": [
    {
     "name": "stdout",
     "output_type": "stream",
     "text": [
      "0.6698\n"
     ]
    },
    {
     "data": {
      "image/png": "[encoded data removed]",
      "text/plain": [
       "<matplotlib.figure.Figure at 0x1a21708d30>"
      ]
     },
     "metadata": {},
     "output_type": "display_data"
    }
   ],
   "source": [
    "#find noise baseline and reduce\n",
    "\n",
    "# noise_base25 = 0\n",
    "# noise_base25 = np.sum(counts25_Ar20[0:1500])/(len(counts25_Ar20[0:1500]))\n",
    "# noise_base5 = np.sum(counts5_Ar20[0:1500])/(len(counts5_Ar20[0:1500]))\n",
    "\n",
    "noise_base = 0\n",
    "noise_base = np.sum(counts3_Ar20_TPB1[10000:])/(len(counts3_Ar20_TPB1[10000:]))\n",
    "# noise_base = np.sum(counts3_Ar20_TPB4[:500])/(len(counts3_Ar20_TPB4[:500]))\n",
    "\n",
    "# noise_base = st.mode(counts3_Ar20_TPB1[30000:])\n",
    "\n",
    "# for Q in range(20000,len(counts3_Ar20_TPB1)-1):\n",
    "#     if counts3_Ar20_TPB1[Q] >= noise_base:\n",
    "#         noise_base = counts3_Ar20_TPB1[Q]\n",
    "\n",
    "# for Q in range(0,1500):\n",
    "#     if counts25_Ar20[Q] >= noise_base25:\n",
    "#         noise_base25 = counts25_Ar20[Q]\n",
    "#     if counts5_Ar20[Q] >= noise_base5:\n",
    "#         noise_base5 = counts5_Ar20[Q]\n",
    "\n",
    "fit_counts = []\n",
    "fit_counts = counts3_Ar20_TPB1\n",
    "\n",
    "print(noise_base)\n",
    "# print(noise_base5)\n",
    "\n",
    "for Q in range(0,len(bins3_Ar20_TPB1)-1):\n",
    "    if counts3_Ar20_TPB1[Q] >= noise_base:\n",
    "        fit_counts[Q] = fit_counts[Q]*(rate_0000V/sum_0000V) - noise_base\n",
    "    if counts3_Ar20_TPB1[Q] < noise_base:\n",
    "        fit_counts[Q] = 0\n",
    "#     if counts5_Ar20[Q] >= noise_base5:\n",
    "#         counts5_Ar20[Q] -= noise_base5\n",
    "#     if counts5_Ar20[Q] < noise_base5:\n",
    "#         counts5_Ar20[Q] = 0\n",
    "        \n",
    "\n",
    "plt.plot(bins3_Ar20_TPB4[1:],fit_counts) #bins3_Ar20_125[1:]\n",
    "        \n",
    "# plt.title(r'Pure Argon 20 psi - $\\alpha$ source (baseline subtracted)')\n",
    "# plt.title(r'Pure Argon 20 psi- logscale; unfiltered')\n",
    "# plt.title('100% Ar - 20psi logscale;  TPB in chamber') #-3dB @ 30.25MHz)\n",
    "# plt.title('100% Ar - 25psi logscale; TPB in chamber, 1 Megaohm termination') #-3dB @ 30.25MHz)\n",
    "plt.title(r'100% Ar - 00 psig logscale; no TPB, E field @ 0000V, w/ $\\alpha$ src')\n",
    "\n",
    "# plt.subtitle('Direct view')\n",
    "\n",
    "plt.xlabel('Time (s)',fontsize=10)\n",
    "# plt.ylabel('Pulse count',fontsize=10)\n",
    "plt.ylabel('Pulse count log()',fontsize=10)\n",
    "plt.xticks(fontsize=10)\n",
    "plt.ticklabel_format(axis='x', style='sci', scilimits=(-3,3))\n",
    "plt.yticks(fontsize=10)\n",
    "# plt.ylim(1, 100)\n",
    "# plt.xlim(-0.5e-5,0.5e-5)    \n",
    "# plt.xlim(-0.25e-3,2.0e-3) \n",
    "plt.yscale('log')\n",
    "\n",
    "# ax.legend(('-2.5 mV threshold','-5.0 mV threshold'), loc = 'upper right') \n",
    "\n",
    "# plt.savefig('Time_constant_histo_Ar20_alphasrc_25mVthreshold_sub.pdf')"
   ]
  },
  {
   "cell_type": "code",
   "execution_count": null,
   "metadata": {
    "collapsed": true
   },
   "outputs": [],
   "source": [
    "i, = np.where(bins5_Ar20 <= -1e-6)# time_mark5[len(time_mark5)-1])\n",
    "i\n",
    "\n",
    "# print(bins3_Ar20)\n",
    "# print(time_mark[24])\n",
    "# print(bins1_Ar10[1155])\n",
    "\n",
    "# del_t = bins_Ar20[len(counts_Ar20)-1] - bins_Ar20[1157]\n",
    "\n",
    "# print(counts_Ar20[1157])\n",
    "# print(counts_Ar20[len(counts_Ar20)-1])\n",
    "\n",
    "# # print(bins2_Ar20[len(counts2_Ar20)-1])\n",
    "\n",
    "# print(del_t)"
   ]
  },
  {
   "cell_type": "code",
   "execution_count": null,
   "metadata": {
    "collapsed": true
   },
   "outputs": [],
   "source": [
    "temp_bins3[421]"
   ]
  },
  {
   "cell_type": "code",
   "execution_count": 463,
   "metadata": {},
   "outputs": [
    {
     "name": "stdout",
     "output_type": "stream",
     "text": [
      " \n",
      "-9.525e+05 x + 2.675\n",
      "1.0498892206371293\n",
      "-0.722727740146934\n",
      "0.5223353863778941\n",
      "4.3063969245748164e-82\n"
     ]
    },
    {
     "name": "stderr",
     "output_type": "stream",
     "text": [
      "/anaconda3/lib/python3.6/site-packages/ipykernel_launcher.py:39: RuntimeWarning: divide by zero encountered in log\n"
     ]
    },
    {
     "data": {
      "text/plain": [
       "Text(2.5e-06,4,'$\\\\mathregular{r^2}$ = 0.52234')"
      ]
     },
     "execution_count": 463,
     "metadata": {},
     "output_type": "execute_result"
    },
    {
     "data": {
      "image/png": "[encoded data removed]",
      "text/plain": [
       "<matplotlib.figure.Figure at 0x1a191183c8>"
      ]
     },
     "metadata": {},
     "output_type": "display_data"
    }
   ],
   "source": [
    "# temp_bins = bins25_Ar20[1:]\n",
    "temp_bins = bins3_Ar20_TPB1\n",
    "\n",
    "temp_bins2 = temp_bins[4650:5400]\n",
    "# temp_counts = counts3_Ar20_TPB3[8000:9000]\n",
    "\n",
    "\n",
    "# temp_bins2 = temp_bins[2650:3000]\n",
    "temp_counts = fit_counts[4650:5400]\n",
    "\n",
    "temp_bins3 = arr.array('d')\n",
    "temp_counts2 = arr.array('d')\n",
    "\n",
    "for Q in range(1,len(temp_counts)-1):\n",
    "    if temp_counts[Q] != 0:\n",
    "        temp_bins3.append(temp_bins2[Q])\n",
    "        temp_counts2.append(temp_counts[Q])\n",
    "\n",
    "\n",
    "fit = np.polyfit(temp_bins3,np.log(temp_counts2),1)\n",
    "fitfunc = np.poly1d(fit)\n",
    "\n",
    "# results = {}\n",
    "# results['polynomial'] = fit.tolist()\n",
    "# correlation = np.corrcoef(temp_bins3,np.log(temp_counts2))[0,1]\n",
    "# results['correlation'] = correlation\n",
    "# determination = correlation*correlation\n",
    "# results['determination'] = determination\n",
    "\n",
    "m, b, r_value, p_value, std_err = stats.linregress(temp_bins3,np.log(temp_counts2))\n",
    "determination = r_value*r_value\n",
    "\n",
    "error1 = np.log(np.sqrt(temp_counts2[0]))\n",
    "error2 = np.log(np.sqrt(temp_counts2[len(temp_counts2)-1]))\n",
    "\n",
    "f, ax = plt.subplots(1)\n",
    "\n",
    "# ax.plot(temp_bins,np.log(counts25_Ar20))\n",
    "ax.plot(temp_bins[1:],np.log(fit_counts))\n",
    "ax.plot(temp_bins3,np.log(temp_counts2)) \n",
    "ax.plot(temp_bins3, fitfunc(temp_bins3))\n",
    "ax.errorbar(temp_bins3[0],np.log(temp_counts2[0]),yerr = error1,color = 'r')\n",
    "ax.errorbar(temp_bins3[len(temp_bins3)-1],np.log(temp_counts2[len(temp_counts2)-1]),yerr = error2, color = 'r',linewidth = 3)\n",
    "\n",
    "# plt.title(r'100% Ar 20psi - $\\alpha$ source (-5mV)')\n",
    "# plt.title(r'Pure Argon 25 psi- logscale')\n",
    "# plt.title(r'100% Ar - 00 psig logscale; no TPB, no E field, no $\\alpha$ src')\n",
    "plt.title(r'100% Ar - 00 psig logscale; no TPB, E field @ 0000V, w/ $\\alpha$ src')\n",
    "# plt.title('100% Ar - 25psi logscale; TPB in chamber, 1 Megaohm termination') #-3dB @ 30.25MHz)\n",
    "# plt.title('Vacuum ~3e-7 Torr logscale; TPB in chamber') #-3dB @ 30.25MHz)\n",
    "\n",
    "plt.xticks(fontsize=10)\n",
    "plt.yticks(fontsize=10)\n",
    "plt.ticklabel_format(axis='x', style='sci', scilimits=(-3,3))\n",
    "plt.xlim(-0.25e-5,1.0e-5)\n",
    "# plt.xlim(0,2.5e-5)\n",
    "# plt.xlim(-1e-5,2.5e-5) \n",
    "# plt.ylim(-4.5,6) \n",
    "plt.xlabel('Time (s)',fontsize=10)\n",
    "plt.ylabel(r'Pulse count ($\\mathregular{e^y}$)',fontsize=10)\n",
    "\n",
    "ax.legend(('total','triplet state','linear fit', 'error = sqrt(count)'), loc = 'upper right')\n",
    "# ax.legend(('total','long decay?','linear fit'), loc = 'upper right')\n",
    "\n",
    "print(fitfunc)\n",
    "\n",
    "\n",
    "# tau = (temp_bins[10000]-temp_bins[7550])/(np.log(fit_counts[10000]/fit_counts[7550]))*-1e6\n",
    "tau = 1/(fitfunc[1])*-1e6\n",
    "print(tau)\n",
    "print(r_value)\n",
    "print(determination)\n",
    "print(p_value)\n",
    "\n",
    "ax.text(.25e-5,6, r'$\\tau = %.5f \\mu$s' %tau, fontsize=12)\n",
    "ax.text(.25e-5,4, r'$\\mathregular{r^2}$ = %.5f' %determination, fontsize=12)\n",
    "# ax.text(.25e-5,2, r'p = %.5f' %p_value, fontsize=12)\n",
    "\n",
    "\n",
    "# plt.savefig('/Users/neutrino/Ryne/WaveformsForPressureDependence/Fithisto_Ar00_reduced_TPB_Efield_070519_run3.pdf')"
   ]
  },
  {
   "cell_type": "code",
   "execution_count": null,
   "metadata": {
    "collapsed": true
   },
   "outputs": [],
   "source": [
    "###### fastint = np.sum(fit_counts[7700:14000])\n",
    "\n",
    "slowint = np.sum(fit_counts[15000:21300])\n",
    "\n",
    "print(fastint)\n",
    "print(slowint)\n",
    "print(fastint/slowint)"
   ]
  },
  {
   "cell_type": "code",
   "execution_count": null,
   "metadata": {
    "collapsed": true
   },
   "outputs": [],
   "source": [
    "f, ax = plt.subplots(1)\n",
    "\n",
    "ax.plot(Xavg*1e6,Yavg*-1e3,color='k',linewidth=1,alpha=0.5)\n",
    "#ax.scatter(time_mark,Yval,marker='x', color='k',s=5)\n",
    "\n",
    "# ax.plot(Xavg1*1e6,Yavg1*-1e3,color='k',linewidth=1,alpha=0.5)\n",
    "# #ax.scatter(time_mark1,Yval1,marker='o', color='b',s=5)\n",
    "\n",
    "# ax.plot(Xavg2*1e6,Yavg2*1e3,color='r',linewidth=3,alpha=0.5)\n",
    "# #ax.scatter(time_mark2,Yval2,marker='s', color='r',s=5)\n",
    "\n",
    "# ax.plot(Xavg3*1e6,Yavg3*1e3,color='g',linewidth=1,alpha=0.5)\n",
    "# #ax.scatter(time_mark3,Yval3,marker='^', color='g',s=5)\n",
    "\n",
    "# ax.plot(Xavg4*1e6,Yavg4*1e3,color='k',linewidth=1,alpha=0.5)\n",
    "# #ax.scatter(time_mark4,Yval4,marker='*',color='c',s=5)\n",
    "\n",
    "# ax.plot(Xavg5*1e6,Yavg5*1e3,color='b',linewidth=1,alpha=0.5)\n",
    "# ax.scatter(time_mark4,Yval4,marker='*',color='c',s=5)\n",
    "\n",
    "# ax.plot(Xavg6*1e6,Yavg6*1e3,color='r',linewidth=1,alpha=0.5)\n",
    "# ax.scatter(time_mark4,Yval4,marker='*',color='c',s=5)\n",
    "\n",
    "\n",
    "# plt.axvline(time_mark[2], linestyle='--', color='k', alpha=0.3)\n",
    "# plt.axvline(time_mark[4], linestyle='--', color='k', alpha=0.3)\n",
    "# plt.axvline(time_mark[5], linestyle=':', color='k', alpha=0.3)\n",
    "# plt.axvline(time_mark[len(Yval)-1], linestyle=':', color='k', alpha=0.3)\n",
    "\n",
    "\n",
    "# plt.axvline(time_mark1[2], linestyle='--', color='b', alpha=0.3)\n",
    "# plt.axvline(time_mark1[4], linestyle='--', color='b', alpha=0.3)\n",
    "# plt.axvline(time_mark1[5], linestyle=':', color='b', alpha=0.3)\n",
    "# plt.axvline(time_mark1[len(Yval1)-1], linestyle=':', color='b', alpha=0.3)\n",
    "\n",
    "# plt.axvline(time_mark2[2], linestyle='--', color='r', alpha=0.3)\n",
    "# plt.axvline(time_mark2[4], linestyle='--', color='r', alpha=0.3)\n",
    "# plt.axvline(time_mark2[5], linestyle=':', color='r', alpha=0.3)\n",
    "# plt.axvline(time_mark2[len(Yval2)-1], linestyle=':', color='r', alpha=0.3)\n",
    "\n",
    "# plt.axvline(time_mark3[2], linestyle='--', color='g', alpha=0.3)\n",
    "# plt.axvline(time_mark3[4], linestyle='--', color='g', alpha=0.3)\n",
    "# plt.axvline(time_mark3[5], linestyle=':', color='g', alpha=0.3)\n",
    "# plt.axvline(time_mark3[len(Yval3)-1], linestyle=':', color='g', alpha=0.3)\n",
    "\n",
    "# plt.axvline(time_mark4[0], linestyle='--', color='c', alpha=0.3)\n",
    "# plt.axvline(time_mark4[2], linestyle='--', color='c', alpha=0.3)\n",
    "# plt.axvline(time_mark4[4], linestyle=':', color='c', alpha=0.3)\n",
    "# plt.axvline(time_mark4[len(Yval4)-1], linestyle=':', color='c', alpha=0.3)\n",
    "\n",
    "#plt.gca().invert_yaxis()\n",
    "#ax.set_yscale('log')\n",
    "\n",
    "\n",
    "#plt.title('Average Waveforms', fontsize=20)\n",
    "# plt.title('100% Ar (20psi)', fontsize=20)\n",
    "# plt.title('100% Ar (25psi)- Average Waveform; 1Mohm termination')\n",
    "#plt.title('97% Ar 3% Xe (10psi) - Average Waveform', fontsize=20)\n",
    "#plt.title('97% Ar 3% Xe (20psi) - Average Waveform', fontsize=20)\n",
    "# plt.title('Vacuum - Average Waveform; w/ E field, w/ TPB')\n",
    "# plt.title('100% Ar (0 psig) - Average Waveform; w/ TPB, w/ E field')\n",
    "plt.title('100% Ar (0 psig) - Average Waveform logscale; w/ TPB, w/ E field')\n",
    "\n",
    "plt.xlabel('Time ($\\mu$s)',fontsize=10)  #$\\mu$\n",
    "plt.ylabel('Pulse height (mV)',fontsize=10)\n",
    "plt.xticks(fontsize=10)\n",
    "plt.yticks(fontsize=10)\n",
    "plt.yscale('log')\n",
    "\n",
    "# plt.gca().invert_yaxis()\n",
    "# plt.ylim(-5,15)\n",
    "plt.xlim(-2.5,10)\n",
    "\n",
    "#ax.legend(('Ar 1.0 - 10psi', 'Ar 1.0 - 20psi', 'Ar 0.97 Xe 0.03 - 10psi', 'Ar 0.97 Xe 0.03 - 20psi', 'Vacuum'), loc= 'upper right')\n",
    "# ax.legend(('Waveform','singlet','triplet'))\n",
    "# ax.legend(('run 1', 'run 2'))\n",
    "\n",
    "\n",
    "#plt.savefig('Waveforms.pdf')\n",
    "#plt.savefig('Ar10_Waveforms.pdf')\n",
    "#plt.savefig('Ar20_Waveforms.pdf')\n",
    "#plt.savefig('ArXe10_Waveforms.pdf')\n",
    "#plt.savefig('ArXe20_Waveforms.pdf')\n",
    "#plt.savefig('Vacuum_Waveforms.pdf')\n",
    "\n",
    "plt.savefig('/Users/neutrino/Ryne/WaveformsForPressureDependence/Figures_StandardReduced/NoFieldAr0_AvgWave_TPB_Efield_062719_06.pdf')\n",
    "\n",
    "\n",
    "#print(time_mark)\n",
    "plt.show()"
   ]
  },
  {
   "cell_type": "code",
   "execution_count": null,
   "metadata": {
    "collapsed": true
   },
   "outputs": [],
   "source": [
    "Xavg3"
   ]
  },
  {
   "cell_type": "code",
   "execution_count": null,
   "metadata": {
    "collapsed": true,
    "scrolled": true
   },
   "outputs": [],
   "source": [
    "#time seperation of ringing pulses\n",
    "\n",
    "\n",
    "delta_t = arr.array('d')\n",
    "count = arr.array('d')\n",
    "\n",
    "delta_t1 = arr.array('d')\n",
    "count1 = arr.array('d')\n",
    "\n",
    "delta_t2 = arr.array('d')\n",
    "count2 = arr.array('d')\n",
    "\n",
    "delta_t3 = arr.array('d')\n",
    "count3 = arr.array('d')\n",
    "\n",
    "delta_t4 = arr.array('d')\n",
    "count4 = arr.array('d')\n",
    "\n",
    "for Q in range(1,len(time_mark)):\n",
    "    delta_t.append(time_mark[Q]-time_mark[Q-1])\n",
    "    count.append(Q)\n",
    "    \n",
    "for Q in range(1,len(time_mark1)):   \n",
    "    delta_t1.append(time_mark1[Q]-time_mark1[Q-1])\n",
    "    count1.append(Q)\n",
    "    \n",
    "for Q in range(1,len(time_mark2)):    \n",
    "    delta_t2.append(time_mark2[Q]-time_mark2[Q-1])\n",
    "    count2.append(Q)\n",
    "    \n",
    "for Q in range(1,len(time_mark3)):\n",
    "    delta_t3.append(time_mark3[Q]-time_mark3[Q-1])\n",
    "    count3.append(Q)\n",
    "    \n",
    "for Q in range(1,len(time_mark4)):   \n",
    "    delta_t4.append(time_mark4[Q]-time_mark4[Q-1])\n",
    "    count4.append(Q)\n",
    "    \n",
    "    \n",
    "f, ax = plt.subplots(1)\n",
    "    \n",
    "ax.scatter(count,delta_t,marker='x', color='k')\n",
    "ax.scatter(count1,delta_t1,marker='o', color='b')\n",
    "ax.scatter(count2,delta_t2,marker='s', color='r')\n",
    "ax.scatter(count3,delta_t3,marker='^', color='g')\n",
    "ax.scatter(count4,delta_t4,marker='*', color='c')\n",
    "\n",
    "plt.title('Time seperation between troughs', fontsize=20)\n",
    "\n",
    "plt.xlabel('Pulse',fontsize=10)\n",
    "plt.ylabel('Time $\\Delta$s',fontsize=10)\n",
    "plt.xticks(fontsize=10)\n",
    "plt.yticks(fontsize=10)\n",
    "\n",
    "ax.legend(('Vacuum', 'Ar 1.0 - 20psi', 'Ar 0.97 Xe 0.03 - 10psi', 'Ar 0.97 Xe 0.03 - 20psi', 'Vacuum'), loc= 'upper right')\n",
    "\n",
    "#plt.savefig('Pulse_seperation.pdf')\n",
    "#plt.savefig('Ar10_Pulse_seperation.pdf')\n",
    "#plt.savefig('Ar20_Pulse_seperation.pdf')\n",
    "#plt.savefig('ArXe10_Pulse_seperation.pdf')\n",
    "#plt.savefig('ArXe20_Pulse_seperation.pdf')\n",
    "#plt.savefig('Vacuum_Pulse_seperation.pdf')\n",
    "\n",
    "\n",
    "plt.show()"
   ]
  },
  {
   "cell_type": "code",
   "execution_count": null,
   "metadata": {
    "collapsed": true
   },
   "outputs": [],
   "source": []
  },
  {
   "cell_type": "code",
   "execution_count": null,
   "metadata": {
    "collapsed": true
   },
   "outputs": [],
   "source": []
  },
  {
   "cell_type": "code",
   "execution_count": null,
   "metadata": {
    "collapsed": true
   },
   "outputs": [],
   "source": []
  },
  {
   "cell_type": "code",
   "execution_count": null,
   "metadata": {
    "collapsed": true
   },
   "outputs": [],
   "source": []
  },
  {
   "cell_type": "code",
   "execution_count": null,
   "metadata": {
    "collapsed": true
   },
   "outputs": [],
   "source": []
  },
  {
   "cell_type": "code",
   "execution_count": null,
   "metadata": {
    "collapsed": true
   },
   "outputs": [],
   "source": []
  },
  {
   "cell_type": "code",
   "execution_count": null,
   "metadata": {
    "collapsed": true
   },
   "outputs": [],
   "source": []
  },
  {
   "cell_type": "code",
   "execution_count": null,
   "metadata": {
    "collapsed": true
   },
   "outputs": [],
   "source": [
    "# for looking at later\n",
    "\n",
    "dataX=[]\n",
    "dataY=[]\n",
    "XTraces=dict()\n",
    "YTraces=dict()\n",
    "volt = dict()\n",
    "time = dict()\n",
    "for z in range(0,len(files)):\n",
    "    dataX=[]\n",
    "    dataY=[]\n",
    "    Files = os.listdir(files[z])\n",
    "    for x in range(0,len(Files)):\n",
    "        datX, datY, info = readTrc(paths[z]+\"/\"+Files[x])\n",
    "        NTraces     =   info['SUBARRAY_COUNT']\n",
    "        TotalPoints =   info[ 'WAVE_ARRAY_COUNT']\n",
    "        dx          =   info['HORIZ_INTERVAL']\n",
    "        PPT         =   TotalPoints/NTraces\n",
    "        YTraces[x]   =   np.split(datY, NTraces)\n",
    "        XTraces[x]   =   np.split(datX, NTraces)\n",
    "        for y in range(0,len(YTraces[x])):\n",
    "            dataX.append(XTraces[x][y])\n",
    "            dataY.append(YTraces[x][y])\n",
    "    volt[z] = np.array(dataY)\n",
    "    time[z] = np.array(dataX)"
   ]
  },
  {
   "cell_type": "code",
   "execution_count": null,
   "metadata": {
    "collapsed": true
   },
   "outputs": [],
   "source": []
  },
  {
   "cell_type": "code",
   "execution_count": null,
   "metadata": {
    "collapsed": true
   },
   "outputs": [],
   "source": [
    "mu = 1e6\n",
    "ml = 1e3\n",
    "unit=  r\"$\\frac{V}{cm}$\"\n",
    "plt.figure(figsize=(15,9))\n",
    "for x in range(0,len(files)):\n",
    "    plt.plot(Time[x]*ml,Volt[x]*ml,label=str(Efield[x]) + unit,color=cm.afmhot((x+2)/17))\n",
    "\n",
    "#plt.text(325, -10, r'750 Torr', fontsize=30)\n",
    "#plt.text(25, 10, r'RC=10$\\mu$s', fontsize=30)\n",
    "plt.title('BTX ION drift 5-24-17 ',fontsize=30)\n",
    "plt.xlim(0,170)\n",
    "plt.ylim(-0.8,0)\n",
    "plt.xlabel(r'Time / ms',fontsize=26)\n",
    "plt.ylabel('Voltaeg / mV',fontsize=26)\n",
    "plt.xticks(fontsize=24)\n",
    "plt.yticks(fontsize=24)\n",
    "#plt.xticks(np.arange(0, 400, 50.0))\n",
    "plt.grid()\n",
    "plt.legend(loc='upper right',fontsize=25)\n",
    "plt.tight_layout()\n",
    "plt.savefig('Ar100%_10psi.pdf')\n",
    "\n",
    "plt.show()"
   ]
  },
  {
   "cell_type": "code",
   "execution_count": null,
   "metadata": {
    "collapsed": true
   },
   "outputs": [],
   "source": [
    "pip install plotly --upgrade"
   ]
  },
  {
   "cell_type": "code",
   "execution_count": null,
   "metadata": {
    "collapsed": true
   },
   "outputs": [],
   "source": [
    "import plotly\n",
    "import plotly.plotly as py\n",
    "import plotly.graph_objs as go\n",
    "\n",
    "trace = go.Table(\n",
    "    header=dict(values=['Gas Type', 'Pressure (psig)', 'TPB present','E field present','Relative intensity','Time Constant /tau_f'],\n",
    "                line = dict(color='#7D7F80'),\n",
    "                fill = dict(color='#a1c3d1'),\n",
    "                align = ['left'] * 5),\n",
    "    cells=dict(values=[[100, 90, 80, 90],\n",
    "                       [95, 85, 75, 95]],\n",
    "               line = dict(color='#7D7F80'),\n",
    "               fill = dict(color='#EDFAFF'),\n",
    "               align = ['left'] * 5))\n",
    "\n",
    "layout = dict(width=500, height=300)\n",
    "data = [trace]\n",
    "fig = dict(data=data, layout=layout)\n",
    "py.iplot(fig, filename = 'styled_table')"
   ]
  },
  {
   "cell_type": "code",
   "execution_count": null,
   "metadata": {
    "collapsed": true
   },
   "outputs": [],
   "source": [
    "import tables\n",
    "\n",
    "from tables import *\n"
   ]
  },
  {
   "cell_type": "code",
   "execution_count": null,
   "metadata": {
    "collapsed": true
   },
   "outputs": [],
   "source": [
    "plt.plot(Xavg1,Yavg1)"
   ]
  },
  {
   "cell_type": "code",
   "execution_count": 35,
   "metadata": {},
   "outputs": [
    {
     "data": {
      "image/png": "[encoded data removed]",
      "text/plain": [
       "<matplotlib.figure.Figure at 0x1a16f8f898>"
      ]
     },
     "metadata": {},
     "output_type": "display_data"
    }
   ],
   "source": [
    "pressure_1_psig = [0,0,0,5,5,5,10,10,10,20,20,20,25,25,25]\n",
    "pressure_1_atm = [1,1,1,1.34,1.34,1.34,1.68,1.68,1.68,2.36,2.36,2.36,2.70,2.70,2.70]\n",
    "time_constants_1 = [0.25420,0.17757,0.19282,0.22556,0.24238,0.22295,0.16084,0.14003,0.18149,0.14916,0.17103,0.16629,0.20702,0.21503,0.19408]\n",
    "\n",
    "# pressure_2_psig = [0,0,0,5,5,5,10,10,10,20,20,20,25,25,25]\n",
    "# pressure_2_atm = [1,1,1,1.34,1.34,1.34,1.68,1.68,1.68,2.36,2.36,2.36,2.70,2.70,2.70]\n",
    "# time_constants_2 = [0.34821,0.29687,0.39451,0.32663,0.30153,0.40259,0.19680,0.38996,0.18043,0.20043,0.19937,0.24358,0.20009,0.24770,0.23120]\n",
    "\n",
    "f, ax1 = plt.subplots(1)\n",
    "# ax2 = ax1.twinx()\n",
    "\n",
    "ax1.scatter(pressure_1_psig,time_constants_1,marker='x', color='b',s=5, alpha = 0.5)\n",
    "# ax1.scatter(pressure_2_psig,time_constants_2,marker='o', color='r',s=5, alpha = 0.5)\n",
    "# ax1.scatter(pressure_1_atm,time_constants_1,marker='x', color='b',s=5, alpha = 0.5)\n",
    "# ax1.scatter(pressure_2_atm,time_constants_2,marker='o', color='r',s=5, alpha = 0.5)\n",
    "\n",
    "\n",
    "plt.title('Time Constant of Radiative Decay')\n",
    "\n",
    "plt.xlabel('Pressure (psig)')\n",
    "# plt.xlabel('Presure (atm)')\n",
    "plt.ylabel(r'Time Constant $\\tau (\\mu$s)')\n",
    "# plt.legend(('Reduced by mode of late end','Reduced by mean of late end'),loc = 'upper right')\n",
    "\n",
    "\n",
    "plt.savefig('/Users/neutrino/Ryne/TimeConstantvPressure(psig).pdf')\n",
    "\n",
    "\n",
    "plt.show()\n",
    "\n",
    "\n",
    "# ax2 = ax.twiny()\n"
   ]
  },
  {
   "cell_type": "code",
   "execution_count": null,
   "metadata": {
    "collapsed": true
   },
   "outputs": [],
   "source": []
  },
  {
   "cell_type": "code",
   "execution_count": null,
   "metadata": {
    "collapsed": true
   },
   "outputs": [],
   "source": []
  },
  {
   "cell_type": "code",
   "execution_count": null,
   "metadata": {
    "collapsed": true
   },
   "outputs": [],
   "source": []
  }
 ],
 "metadata": {
  "kernelspec": {
   "display_name": "Python 3",
   "language": "python",
   "name": "python3"
  },
  "language_info": {
   "codemirror_mode": {
    "name": "ipython",
    "version": 3
   },
   "file_extension": ".py",
   "mimetype": "text/x-python",
   "name": "python",
   "nbconvert_exporter": "python",
   "pygments_lexer": "ipython3",
   "version": "3.6.9"
  }
 },
 "nbformat": 4,
 "nbformat_minor": 2
}
